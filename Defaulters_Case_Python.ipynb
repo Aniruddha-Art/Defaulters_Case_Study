{
 "cells": [
  {
   "cell_type": "markdown",
   "id": "6d0d7b25",
   "metadata": {},
   "source": [
    "# Importing Necessary Libraries"
   ]
  },
  {
   "cell_type": "code",
   "execution_count": 1,
   "id": "b713c765",
   "metadata": {},
   "outputs": [],
   "source": [
    "import pandas as pd\n",
    "import matplotlib.pyplot as plt\n",
    "import seaborn as sns\n",
    "import numpy as np"
   ]
  },
  {
   "cell_type": "code",
   "execution_count": 2,
   "id": "9e004b80",
   "metadata": {},
   "outputs": [
    {
     "data": {
      "text/html": [
       "<div>\n",
       "<style scoped>\n",
       "    .dataframe tbody tr th:only-of-type {\n",
       "        vertical-align: middle;\n",
       "    }\n",
       "\n",
       "    .dataframe tbody tr th {\n",
       "        vertical-align: top;\n",
       "    }\n",
       "\n",
       "    .dataframe thead th {\n",
       "        text-align: right;\n",
       "    }\n",
       "</style>\n",
       "<table border=\"1\" class=\"dataframe\">\n",
       "  <thead>\n",
       "    <tr style=\"text-align: right;\">\n",
       "      <th></th>\n",
       "      <th>client_id</th>\n",
       "      <th>entity_type</th>\n",
       "      <th>entity_year_established</th>\n",
       "    </tr>\n",
       "  </thead>\n",
       "  <tbody>\n",
       "    <tr>\n",
       "      <th>0</th>\n",
       "      <td>786</td>\n",
       "      <td>Australian Private Company</td>\n",
       "      <td>2002</td>\n",
       "    </tr>\n",
       "    <tr>\n",
       "      <th>1</th>\n",
       "      <td>230</td>\n",
       "      <td>Australian Private Company</td>\n",
       "      <td>2008</td>\n",
       "    </tr>\n",
       "    <tr>\n",
       "      <th>2</th>\n",
       "      <td>282</td>\n",
       "      <td>Individual/Sole Trader</td>\n",
       "      <td>2001</td>\n",
       "    </tr>\n",
       "    <tr>\n",
       "      <th>3</th>\n",
       "      <td>447</td>\n",
       "      <td>Australian Private Company</td>\n",
       "      <td>2013</td>\n",
       "    </tr>\n",
       "    <tr>\n",
       "      <th>4</th>\n",
       "      <td>310</td>\n",
       "      <td>Individual/Sole Trader</td>\n",
       "      <td>2015</td>\n",
       "    </tr>\n",
       "  </tbody>\n",
       "</table>\n",
       "</div>"
      ],
      "text/plain": [
       "   client_id                 entity_type  entity_year_established\n",
       "0        786  Australian Private Company                     2002\n",
       "1        230  Australian Private Company                     2008\n",
       "2        282      Individual/Sole Trader                     2001\n",
       "3        447  Australian Private Company                     2013\n",
       "4        310      Individual/Sole Trader                     2015"
      ]
     },
     "execution_count": 2,
     "metadata": {},
     "output_type": "execute_result"
    }
   ],
   "source": [
    "df_clients = pd.read_csv(\"Clients.csv\")\n",
    "df_clients.head()"
   ]
  },
  {
   "cell_type": "markdown",
   "id": "d4e5b93d",
   "metadata": {},
   "source": [
    "client_id: This is a unique identifier for each client or customer in the database. It helps distinguish one \n",
    "client from another.\n",
    "\n",
    "entity_type: This column describes the type of business or organization the client is.\n",
    "    \n",
    "entity_year_established: This column shows the year when the client's business or entity was officially started."
   ]
  },
  {
   "cell_type": "code",
   "execution_count": 3,
   "id": "eb089d20",
   "metadata": {},
   "outputs": [
    {
     "data": {
      "text/plain": [
       "(1287, 3)"
      ]
     },
     "execution_count": 3,
     "metadata": {},
     "output_type": "execute_result"
    }
   ],
   "source": [
    "df_clients.shape"
   ]
  },
  {
   "cell_type": "code",
   "execution_count": 4,
   "id": "8e2a39dd",
   "metadata": {},
   "outputs": [
    {
     "data": {
      "text/plain": [
       "array(['Australian Private Company', 'Individual/Sole Trader',\n",
       "       'Family Partnership', 'Australian Proprietary Company',\n",
       "       'Discretionary Trading Trust', 'Discretionary Investment Trust',\n",
       "       'Australian Public Company', 'Other Partnership',\n",
       "       'Fixed Unit Trust', 'Hybrid Trust'], dtype=object)"
      ]
     },
     "execution_count": 4,
     "metadata": {},
     "output_type": "execute_result"
    }
   ],
   "source": [
    "df_clients.entity_type.unique() # 10 entity types"
   ]
  },
  {
   "cell_type": "code",
   "execution_count": 5,
   "id": "501120a2",
   "metadata": {},
   "outputs": [],
   "source": [
    "clients_df = pd.read_csv('clients.csv')"
   ]
  },
  {
   "cell_type": "code",
   "execution_count": 6,
   "id": "7bc5f7c2",
   "metadata": {},
   "outputs": [
    {
     "data": {
      "text/html": [
       "<div>\n",
       "<style scoped>\n",
       "    .dataframe tbody tr th:only-of-type {\n",
       "        vertical-align: middle;\n",
       "    }\n",
       "\n",
       "    .dataframe tbody tr th {\n",
       "        vertical-align: top;\n",
       "    }\n",
       "\n",
       "    .dataframe thead th {\n",
       "        text-align: right;\n",
       "    }\n",
       "</style>\n",
       "<table border=\"1\" class=\"dataframe\">\n",
       "  <thead>\n",
       "    <tr style=\"text-align: right;\">\n",
       "      <th></th>\n",
       "      <th>client_id</th>\n",
       "      <th>entity_type</th>\n",
       "      <th>entity_year_established</th>\n",
       "    </tr>\n",
       "  </thead>\n",
       "  <tbody>\n",
       "    <tr>\n",
       "      <th>245</th>\n",
       "      <td>591</td>\n",
       "      <td>Australian Private Company</td>\n",
       "      <td>2013</td>\n",
       "    </tr>\n",
       "    <tr>\n",
       "      <th>306</th>\n",
       "      <td>591</td>\n",
       "      <td>Australian Private Company</td>\n",
       "      <td>2007</td>\n",
       "    </tr>\n",
       "    <tr>\n",
       "      <th>332</th>\n",
       "      <td>473</td>\n",
       "      <td>Australian Private Company</td>\n",
       "      <td>2016</td>\n",
       "    </tr>\n",
       "    <tr>\n",
       "      <th>350</th>\n",
       "      <td>473</td>\n",
       "      <td>Individual/Sole Trader</td>\n",
       "      <td>2008</td>\n",
       "    </tr>\n",
       "    <tr>\n",
       "      <th>401</th>\n",
       "      <td>165</td>\n",
       "      <td>Australian Private Company</td>\n",
       "      <td>2015</td>\n",
       "    </tr>\n",
       "    <tr>\n",
       "      <th>816</th>\n",
       "      <td>591</td>\n",
       "      <td>Australian Private Company</td>\n",
       "      <td>2015</td>\n",
       "    </tr>\n",
       "    <tr>\n",
       "      <th>1063</th>\n",
       "      <td>797</td>\n",
       "      <td>Discretionary Investment Trust</td>\n",
       "      <td>2016</td>\n",
       "    </tr>\n",
       "    <tr>\n",
       "      <th>1115</th>\n",
       "      <td>165</td>\n",
       "      <td>Individual/Sole Trader</td>\n",
       "      <td>2006</td>\n",
       "    </tr>\n",
       "    <tr>\n",
       "      <th>1172</th>\n",
       "      <td>1262</td>\n",
       "      <td>Australian Private Company</td>\n",
       "      <td>2005</td>\n",
       "    </tr>\n",
       "    <tr>\n",
       "      <th>1182</th>\n",
       "      <td>1262</td>\n",
       "      <td>Australian Private Company</td>\n",
       "      <td>2016</td>\n",
       "    </tr>\n",
       "    <tr>\n",
       "      <th>1275</th>\n",
       "      <td>797</td>\n",
       "      <td>Australian Private Company</td>\n",
       "      <td>2002</td>\n",
       "    </tr>\n",
       "  </tbody>\n",
       "</table>\n",
       "</div>"
      ],
      "text/plain": [
       "      client_id                     entity_type  entity_year_established\n",
       "245         591      Australian Private Company                     2013\n",
       "306         591      Australian Private Company                     2007\n",
       "332         473      Australian Private Company                     2016\n",
       "350         473          Individual/Sole Trader                     2008\n",
       "401         165      Australian Private Company                     2015\n",
       "816         591      Australian Private Company                     2015\n",
       "1063        797  Discretionary Investment Trust                     2016\n",
       "1115        165          Individual/Sole Trader                     2006\n",
       "1172       1262      Australian Private Company                     2005\n",
       "1182       1262      Australian Private Company                     2016\n",
       "1275        797      Australian Private Company                     2002"
      ]
     },
     "execution_count": 6,
     "metadata": {},
     "output_type": "execute_result"
    }
   ],
   "source": [
    "# Identify duplicate client_id\n",
    "duplicate_client_ids = clients_df[clients_df.duplicated('client_id', keep=False)]\n",
    "#print(\"Duplicate client IDs:\")\n",
    "duplicate_client_ids"
   ]
  },
  {
   "cell_type": "markdown",
   "id": "ba6bdfb5",
   "metadata": {},
   "source": [
    " There are 11 Duplicate client_id"
   ]
  },
  {
   "cell_type": "code",
   "execution_count": 7,
   "id": "d6fbe820",
   "metadata": {},
   "outputs": [
    {
     "data": {
      "text/plain": [
       "client_id                  5\n",
       "entity_type                3\n",
       "entity_year_established    8\n",
       "dtype: int64"
      ]
     },
     "execution_count": 7,
     "metadata": {},
     "output_type": "execute_result"
    }
   ],
   "source": [
    "duplicate_client_ids.nunique()"
   ]
  },
  {
   "cell_type": "code",
   "execution_count": 8,
   "id": "bf582dd2",
   "metadata": {},
   "outputs": [
    {
     "data": {
      "text/html": [
       "<div>\n",
       "<style scoped>\n",
       "    .dataframe tbody tr th:only-of-type {\n",
       "        vertical-align: middle;\n",
       "    }\n",
       "\n",
       "    .dataframe tbody tr th {\n",
       "        vertical-align: top;\n",
       "    }\n",
       "\n",
       "    .dataframe thead th {\n",
       "        text-align: right;\n",
       "    }\n",
       "</style>\n",
       "<table border=\"1\" class=\"dataframe\">\n",
       "  <thead>\n",
       "    <tr style=\"text-align: right;\">\n",
       "      <th></th>\n",
       "      <th>transaction_id</th>\n",
       "      <th>contract_id</th>\n",
       "      <th>client_id</th>\n",
       "      <th>transaction_date</th>\n",
       "      <th>payment_amt</th>\n",
       "      <th>payment_code</th>\n",
       "    </tr>\n",
       "  </thead>\n",
       "  <tbody>\n",
       "    <tr>\n",
       "      <th>0</th>\n",
       "      <td>20175</td>\n",
       "      <td>927.0</td>\n",
       "      <td>1.0</td>\n",
       "      <td>1.527013e+09</td>\n",
       "      <td>66.66</td>\n",
       "      <td>PAYMENT</td>\n",
       "    </tr>\n",
       "    <tr>\n",
       "      <th>1</th>\n",
       "      <td>8485</td>\n",
       "      <td>927.0</td>\n",
       "      <td>1.0</td>\n",
       "      <td>1.511716e+09</td>\n",
       "      <td>66.66</td>\n",
       "      <td>PAYMENT</td>\n",
       "    </tr>\n",
       "    <tr>\n",
       "      <th>2</th>\n",
       "      <td>13778</td>\n",
       "      <td>927.0</td>\n",
       "      <td>1.0</td>\n",
       "      <td>1.519319e+09</td>\n",
       "      <td>66.66</td>\n",
       "      <td>PAYMENT</td>\n",
       "    </tr>\n",
       "    <tr>\n",
       "      <th>3</th>\n",
       "      <td>22768</td>\n",
       "      <td>927.0</td>\n",
       "      <td>1.0</td>\n",
       "      <td>1.529864e+09</td>\n",
       "      <td>66.66</td>\n",
       "      <td>PAYMENT</td>\n",
       "    </tr>\n",
       "    <tr>\n",
       "      <th>4</th>\n",
       "      <td>15698</td>\n",
       "      <td>927.0</td>\n",
       "      <td>1.0</td>\n",
       "      <td>1.521739e+09</td>\n",
       "      <td>66.66</td>\n",
       "      <td>PAYMENT</td>\n",
       "    </tr>\n",
       "  </tbody>\n",
       "</table>\n",
       "</div>"
      ],
      "text/plain": [
       "  transaction_id  contract_id  client_id  transaction_date  payment_amt  \\\n",
       "0          20175        927.0        1.0      1.527013e+09        66.66   \n",
       "1           8485        927.0        1.0      1.511716e+09        66.66   \n",
       "2          13778        927.0        1.0      1.519319e+09        66.66   \n",
       "3          22768        927.0        1.0      1.529864e+09        66.66   \n",
       "4          15698        927.0        1.0      1.521739e+09        66.66   \n",
       "\n",
       "  payment_code  \n",
       "0      PAYMENT  \n",
       "1      PAYMENT  \n",
       "2      PAYMENT  \n",
       "3      PAYMENT  \n",
       "4      PAYMENT  "
      ]
     },
     "execution_count": 8,
     "metadata": {},
     "output_type": "execute_result"
    }
   ],
   "source": [
    "df_payments = pd.read_csv(\"Payments.csv\")\n",
    "df_payments.head()"
   ]
  },
  {
   "cell_type": "markdown",
   "id": "969db40e",
   "metadata": {},
   "source": [
    "transaction_id: This is a unique identifier for each transaction. No two transactions will have the same transaction_id.\n",
    "    \n",
    "contract_id: This identifier links the transaction to a specific contract\n",
    "    \n",
    "transaction_date: The timestamp of when the transaction occurred. Its recorded as a Unix timestamp, which \n",
    "is the number of seconds since January 1, 1970.    \n",
    "\n",
    "payment_amt: This is the amount of money that was transacted.\n",
    "    \n",
    "payment_code: This indicates the type of transaction. \"PAYMENT\" suggests that these are regular payments. \n",
    "Other codes might include \"DEFAULT\" for missed payments"
   ]
  },
  {
   "cell_type": "code",
   "execution_count": 9,
   "id": "39e64553",
   "metadata": {},
   "outputs": [
    {
     "data": {
      "text/plain": [
       "(25562, 6)"
      ]
     },
     "execution_count": 9,
     "metadata": {},
     "output_type": "execute_result"
    }
   ],
   "source": [
    "df_payments.shape"
   ]
  },
  {
   "cell_type": "markdown",
   "id": "d620e75d",
   "metadata": {},
   "source": [
    "# Merge the two files on client_id"
   ]
  },
  {
   "cell_type": "code",
   "execution_count": 10,
   "id": "04498880",
   "metadata": {},
   "outputs": [
    {
     "data": {
      "text/html": [
       "<div>\n",
       "<style scoped>\n",
       "    .dataframe tbody tr th:only-of-type {\n",
       "        vertical-align: middle;\n",
       "    }\n",
       "\n",
       "    .dataframe tbody tr th {\n",
       "        vertical-align: top;\n",
       "    }\n",
       "\n",
       "    .dataframe thead th {\n",
       "        text-align: right;\n",
       "    }\n",
       "</style>\n",
       "<table border=\"1\" class=\"dataframe\">\n",
       "  <thead>\n",
       "    <tr style=\"text-align: right;\">\n",
       "      <th></th>\n",
       "      <th>transaction_id</th>\n",
       "      <th>contract_id</th>\n",
       "      <th>client_id</th>\n",
       "      <th>transaction_date</th>\n",
       "      <th>payment_amt</th>\n",
       "      <th>payment_code</th>\n",
       "      <th>entity_type</th>\n",
       "      <th>entity_year_established</th>\n",
       "    </tr>\n",
       "  </thead>\n",
       "  <tbody>\n",
       "    <tr>\n",
       "      <th>0</th>\n",
       "      <td>20175</td>\n",
       "      <td>927.0</td>\n",
       "      <td>1.0</td>\n",
       "      <td>1.527013e+09</td>\n",
       "      <td>66.66</td>\n",
       "      <td>PAYMENT</td>\n",
       "      <td>Other Partnership</td>\n",
       "      <td>2006</td>\n",
       "    </tr>\n",
       "    <tr>\n",
       "      <th>1</th>\n",
       "      <td>8485</td>\n",
       "      <td>927.0</td>\n",
       "      <td>1.0</td>\n",
       "      <td>1.511716e+09</td>\n",
       "      <td>66.66</td>\n",
       "      <td>PAYMENT</td>\n",
       "      <td>Other Partnership</td>\n",
       "      <td>2006</td>\n",
       "    </tr>\n",
       "    <tr>\n",
       "      <th>2</th>\n",
       "      <td>13778</td>\n",
       "      <td>927.0</td>\n",
       "      <td>1.0</td>\n",
       "      <td>1.519319e+09</td>\n",
       "      <td>66.66</td>\n",
       "      <td>PAYMENT</td>\n",
       "      <td>Other Partnership</td>\n",
       "      <td>2006</td>\n",
       "    </tr>\n",
       "    <tr>\n",
       "      <th>3</th>\n",
       "      <td>22768</td>\n",
       "      <td>927.0</td>\n",
       "      <td>1.0</td>\n",
       "      <td>1.529864e+09</td>\n",
       "      <td>66.66</td>\n",
       "      <td>PAYMENT</td>\n",
       "      <td>Other Partnership</td>\n",
       "      <td>2006</td>\n",
       "    </tr>\n",
       "    <tr>\n",
       "      <th>4</th>\n",
       "      <td>15698</td>\n",
       "      <td>927.0</td>\n",
       "      <td>1.0</td>\n",
       "      <td>1.521739e+09</td>\n",
       "      <td>66.66</td>\n",
       "      <td>PAYMENT</td>\n",
       "      <td>Other Partnership</td>\n",
       "      <td>2006</td>\n",
       "    </tr>\n",
       "    <tr>\n",
       "      <th>...</th>\n",
       "      <td>...</td>\n",
       "      <td>...</td>\n",
       "      <td>...</td>\n",
       "      <td>...</td>\n",
       "      <td>...</td>\n",
       "      <td>...</td>\n",
       "      <td>...</td>\n",
       "      <td>...</td>\n",
       "    </tr>\n",
       "    <tr>\n",
       "      <th>25849</th>\n",
       "      <td>25075</td>\n",
       "      <td>1603.0</td>\n",
       "      <td>1280.0</td>\n",
       "      <td>1.532024e+09</td>\n",
       "      <td>1666.68</td>\n",
       "      <td>PAYMENT</td>\n",
       "      <td>Australian Private Company</td>\n",
       "      <td>2016</td>\n",
       "    </tr>\n",
       "    <tr>\n",
       "      <th>25850</th>\n",
       "      <td>24711</td>\n",
       "      <td>1603.0</td>\n",
       "      <td>1280.0</td>\n",
       "      <td>1.531765e+09</td>\n",
       "      <td>0.01</td>\n",
       "      <td>PAYMENT</td>\n",
       "      <td>Australian Private Company</td>\n",
       "      <td>2016</td>\n",
       "    </tr>\n",
       "    <tr>\n",
       "      <th>25851</th>\n",
       "      <td>25076</td>\n",
       "      <td>1603.0</td>\n",
       "      <td>1280.0</td>\n",
       "      <td>1.532024e+09</td>\n",
       "      <td>64.99</td>\n",
       "      <td>PAYMENT</td>\n",
       "      <td>Australian Private Company</td>\n",
       "      <td>2016</td>\n",
       "    </tr>\n",
       "    <tr>\n",
       "      <th>25852</th>\n",
       "      <td>25132</td>\n",
       "      <td>1627.0</td>\n",
       "      <td>1281.0</td>\n",
       "      <td>1.532283e+09</td>\n",
       "      <td>0.01</td>\n",
       "      <td>PAYMENT</td>\n",
       "      <td>Australian Private Company</td>\n",
       "      <td>2012</td>\n",
       "    </tr>\n",
       "    <tr>\n",
       "      <th>25853</th>\n",
       "      <td>25131</td>\n",
       "      <td>1627.0</td>\n",
       "      <td>1281.0</td>\n",
       "      <td>1.532283e+09</td>\n",
       "      <td>20000.05</td>\n",
       "      <td>PAYMENT</td>\n",
       "      <td>Australian Private Company</td>\n",
       "      <td>2012</td>\n",
       "    </tr>\n",
       "  </tbody>\n",
       "</table>\n",
       "<p>25854 rows × 8 columns</p>\n",
       "</div>"
      ],
      "text/plain": [
       "      transaction_id  contract_id  client_id  transaction_date  payment_amt  \\\n",
       "0              20175        927.0        1.0      1.527013e+09        66.66   \n",
       "1               8485        927.0        1.0      1.511716e+09        66.66   \n",
       "2              13778        927.0        1.0      1.519319e+09        66.66   \n",
       "3              22768        927.0        1.0      1.529864e+09        66.66   \n",
       "4              15698        927.0        1.0      1.521739e+09        66.66   \n",
       "...              ...          ...        ...               ...          ...   \n",
       "25849          25075       1603.0     1280.0      1.532024e+09      1666.68   \n",
       "25850          24711       1603.0     1280.0      1.531765e+09         0.01   \n",
       "25851          25076       1603.0     1280.0      1.532024e+09        64.99   \n",
       "25852          25132       1627.0     1281.0      1.532283e+09         0.01   \n",
       "25853          25131       1627.0     1281.0      1.532283e+09     20000.05   \n",
       "\n",
       "      payment_code                 entity_type  entity_year_established  \n",
       "0          PAYMENT           Other Partnership                     2006  \n",
       "1          PAYMENT           Other Partnership                     2006  \n",
       "2          PAYMENT           Other Partnership                     2006  \n",
       "3          PAYMENT           Other Partnership                     2006  \n",
       "4          PAYMENT           Other Partnership                     2006  \n",
       "...            ...                         ...                      ...  \n",
       "25849      PAYMENT  Australian Private Company                     2016  \n",
       "25850      PAYMENT  Australian Private Company                     2016  \n",
       "25851      PAYMENT  Australian Private Company                     2016  \n",
       "25852      PAYMENT  Australian Private Company                     2012  \n",
       "25853      PAYMENT  Australian Private Company                     2012  \n",
       "\n",
       "[25854 rows x 8 columns]"
      ]
     },
     "execution_count": 10,
     "metadata": {},
     "output_type": "execute_result"
    }
   ],
   "source": [
    "df = pd.merge(df_payments, df_clients, on = \"client_id\")\n",
    "df"
   ]
  },
  {
   "cell_type": "code",
   "execution_count": 11,
   "id": "95a1a40f",
   "metadata": {},
   "outputs": [
    {
     "data": {
      "text/html": [
       "<div>\n",
       "<style scoped>\n",
       "    .dataframe tbody tr th:only-of-type {\n",
       "        vertical-align: middle;\n",
       "    }\n",
       "\n",
       "    .dataframe tbody tr th {\n",
       "        vertical-align: top;\n",
       "    }\n",
       "\n",
       "    .dataframe thead th {\n",
       "        text-align: right;\n",
       "    }\n",
       "</style>\n",
       "<table border=\"1\" class=\"dataframe\">\n",
       "  <thead>\n",
       "    <tr style=\"text-align: right;\">\n",
       "      <th></th>\n",
       "      <th>transaction_id</th>\n",
       "      <th>contract_id</th>\n",
       "      <th>client_id</th>\n",
       "      <th>transaction_date</th>\n",
       "      <th>payment_amt</th>\n",
       "      <th>payment_code</th>\n",
       "      <th>entity_type</th>\n",
       "      <th>entity_year_established</th>\n",
       "    </tr>\n",
       "  </thead>\n",
       "  <tbody>\n",
       "    <tr>\n",
       "      <th>17380</th>\n",
       "      <td>11420</td>\n",
       "      <td>416.0</td>\n",
       "      <td>797.0</td>\n",
       "      <td>1.516122e+09</td>\n",
       "      <td>251.46</td>\n",
       "      <td>DEFAULT</td>\n",
       "      <td>Discretionary Investment Trust</td>\n",
       "      <td>2016</td>\n",
       "    </tr>\n",
       "    <tr>\n",
       "      <th>17381</th>\n",
       "      <td>11420</td>\n",
       "      <td>416.0</td>\n",
       "      <td>797.0</td>\n",
       "      <td>1.516122e+09</td>\n",
       "      <td>251.46</td>\n",
       "      <td>DEFAULT</td>\n",
       "      <td>Australian Private Company</td>\n",
       "      <td>2002</td>\n",
       "    </tr>\n",
       "    <tr>\n",
       "      <th>17382</th>\n",
       "      <td>11421</td>\n",
       "      <td>416.0</td>\n",
       "      <td>797.0</td>\n",
       "      <td>1.516122e+09</td>\n",
       "      <td>20.11</td>\n",
       "      <td>DEFAULT</td>\n",
       "      <td>Discretionary Investment Trust</td>\n",
       "      <td>2016</td>\n",
       "    </tr>\n",
       "    <tr>\n",
       "      <th>17383</th>\n",
       "      <td>11421</td>\n",
       "      <td>416.0</td>\n",
       "      <td>797.0</td>\n",
       "      <td>1.516122e+09</td>\n",
       "      <td>20.11</td>\n",
       "      <td>DEFAULT</td>\n",
       "      <td>Australian Private Company</td>\n",
       "      <td>2002</td>\n",
       "    </tr>\n",
       "    <tr>\n",
       "      <th>17402</th>\n",
       "      <td>8594</td>\n",
       "      <td>474.0</td>\n",
       "      <td>797.0</td>\n",
       "      <td>1.511802e+09</td>\n",
       "      <td>468.00</td>\n",
       "      <td>DEFAULT</td>\n",
       "      <td>Discretionary Investment Trust</td>\n",
       "      <td>2016</td>\n",
       "    </tr>\n",
       "  </tbody>\n",
       "</table>\n",
       "</div>"
      ],
      "text/plain": [
       "      transaction_id  contract_id  client_id  transaction_date  payment_amt  \\\n",
       "17380          11420        416.0      797.0      1.516122e+09       251.46   \n",
       "17381          11420        416.0      797.0      1.516122e+09       251.46   \n",
       "17382          11421        416.0      797.0      1.516122e+09        20.11   \n",
       "17383          11421        416.0      797.0      1.516122e+09        20.11   \n",
       "17402           8594        474.0      797.0      1.511802e+09       468.00   \n",
       "\n",
       "      payment_code                     entity_type  entity_year_established  \n",
       "17380      DEFAULT  Discretionary Investment Trust                     2016  \n",
       "17381      DEFAULT      Australian Private Company                     2002  \n",
       "17382      DEFAULT  Discretionary Investment Trust                     2016  \n",
       "17383      DEFAULT      Australian Private Company                     2002  \n",
       "17402      DEFAULT  Discretionary Investment Trust                     2016  "
      ]
     },
     "execution_count": 11,
     "metadata": {},
     "output_type": "execute_result"
    }
   ],
   "source": [
    "df[(df['client_id'] == 797) & (df['payment_code'] == 'DEFAULT')].head()"
   ]
  },
  {
   "cell_type": "markdown",
   "id": "a4663ea3",
   "metadata": {},
   "source": [
    "client_id = 591 have 16 DEFAULT payments, client_id = 797 have 18 DEFAULT payments, and client_id = 165, 473, 1262 doesn't have any DEFAULT payments."
   ]
  },
  {
   "cell_type": "markdown",
   "id": "5807b831",
   "metadata": {},
   "source": [
    "# For Converting the EPOCH Date"
   ]
  },
  {
   "cell_type": "code",
   "execution_count": 12,
   "id": "d7789747",
   "metadata": {},
   "outputs": [],
   "source": [
    "df['transaction_date'] = pd.to_datetime(df['transaction_date'], unit='s')\n",
    "\n",
    "df['day_name'] = df['transaction_date'].dt.day_name()\n",
    "\n",
    "df['year'] = df['transaction_date'].dt.year\n",
    "df['month'] = df['transaction_date'].dt.month\n",
    "df['day'] = df['transaction_date'].dt.day"
   ]
  },
  {
   "cell_type": "markdown",
   "id": "4027453c",
   "metadata": {},
   "source": [
    "EPOCH Transaction_date is converted into day_name, day, month, and year"
   ]
  },
  {
   "cell_type": "code",
   "execution_count": 13,
   "id": "0c95f198",
   "metadata": {},
   "outputs": [
    {
     "data": {
      "text/html": [
       "<div>\n",
       "<style scoped>\n",
       "    .dataframe tbody tr th:only-of-type {\n",
       "        vertical-align: middle;\n",
       "    }\n",
       "\n",
       "    .dataframe tbody tr th {\n",
       "        vertical-align: top;\n",
       "    }\n",
       "\n",
       "    .dataframe thead th {\n",
       "        text-align: right;\n",
       "    }\n",
       "</style>\n",
       "<table border=\"1\" class=\"dataframe\">\n",
       "  <thead>\n",
       "    <tr style=\"text-align: right;\">\n",
       "      <th></th>\n",
       "      <th>transaction_id</th>\n",
       "      <th>contract_id</th>\n",
       "      <th>client_id</th>\n",
       "      <th>transaction_date</th>\n",
       "      <th>payment_amt</th>\n",
       "      <th>payment_code</th>\n",
       "      <th>entity_type</th>\n",
       "      <th>entity_year_established</th>\n",
       "      <th>day_name</th>\n",
       "      <th>year</th>\n",
       "      <th>month</th>\n",
       "      <th>day</th>\n",
       "    </tr>\n",
       "  </thead>\n",
       "  <tbody>\n",
       "    <tr>\n",
       "      <th>0</th>\n",
       "      <td>20175</td>\n",
       "      <td>927.0</td>\n",
       "      <td>1.0</td>\n",
       "      <td>2018-05-22 18:08:31</td>\n",
       "      <td>66.66</td>\n",
       "      <td>PAYMENT</td>\n",
       "      <td>Other Partnership</td>\n",
       "      <td>2006</td>\n",
       "      <td>Tuesday</td>\n",
       "      <td>2018</td>\n",
       "      <td>5</td>\n",
       "      <td>22</td>\n",
       "    </tr>\n",
       "    <tr>\n",
       "      <th>1</th>\n",
       "      <td>8485</td>\n",
       "      <td>927.0</td>\n",
       "      <td>1.0</td>\n",
       "      <td>2017-11-26 17:08:15</td>\n",
       "      <td>66.66</td>\n",
       "      <td>PAYMENT</td>\n",
       "      <td>Other Partnership</td>\n",
       "      <td>2006</td>\n",
       "      <td>Sunday</td>\n",
       "      <td>2017</td>\n",
       "      <td>11</td>\n",
       "      <td>26</td>\n",
       "    </tr>\n",
       "    <tr>\n",
       "      <th>2</th>\n",
       "      <td>13778</td>\n",
       "      <td>927.0</td>\n",
       "      <td>1.0</td>\n",
       "      <td>2018-02-22 17:08:23</td>\n",
       "      <td>66.66</td>\n",
       "      <td>PAYMENT</td>\n",
       "      <td>Other Partnership</td>\n",
       "      <td>2006</td>\n",
       "      <td>Thursday</td>\n",
       "      <td>2018</td>\n",
       "      <td>2</td>\n",
       "      <td>22</td>\n",
       "    </tr>\n",
       "    <tr>\n",
       "      <th>3</th>\n",
       "      <td>22768</td>\n",
       "      <td>927.0</td>\n",
       "      <td>1.0</td>\n",
       "      <td>2018-06-24 18:08:44</td>\n",
       "      <td>66.66</td>\n",
       "      <td>PAYMENT</td>\n",
       "      <td>Other Partnership</td>\n",
       "      <td>2006</td>\n",
       "      <td>Sunday</td>\n",
       "      <td>2018</td>\n",
       "      <td>6</td>\n",
       "      <td>24</td>\n",
       "    </tr>\n",
       "    <tr>\n",
       "      <th>4</th>\n",
       "      <td>15698</td>\n",
       "      <td>927.0</td>\n",
       "      <td>1.0</td>\n",
       "      <td>2018-03-22 17:08:24</td>\n",
       "      <td>66.66</td>\n",
       "      <td>PAYMENT</td>\n",
       "      <td>Other Partnership</td>\n",
       "      <td>2006</td>\n",
       "      <td>Thursday</td>\n",
       "      <td>2018</td>\n",
       "      <td>3</td>\n",
       "      <td>22</td>\n",
       "    </tr>\n",
       "  </tbody>\n",
       "</table>\n",
       "</div>"
      ],
      "text/plain": [
       "  transaction_id  contract_id  client_id    transaction_date  payment_amt  \\\n",
       "0          20175        927.0        1.0 2018-05-22 18:08:31        66.66   \n",
       "1           8485        927.0        1.0 2017-11-26 17:08:15        66.66   \n",
       "2          13778        927.0        1.0 2018-02-22 17:08:23        66.66   \n",
       "3          22768        927.0        1.0 2018-06-24 18:08:44        66.66   \n",
       "4          15698        927.0        1.0 2018-03-22 17:08:24        66.66   \n",
       "\n",
       "  payment_code        entity_type  entity_year_established  day_name  year  \\\n",
       "0      PAYMENT  Other Partnership                     2006   Tuesday  2018   \n",
       "1      PAYMENT  Other Partnership                     2006    Sunday  2017   \n",
       "2      PAYMENT  Other Partnership                     2006  Thursday  2018   \n",
       "3      PAYMENT  Other Partnership                     2006    Sunday  2018   \n",
       "4      PAYMENT  Other Partnership                     2006  Thursday  2018   \n",
       "\n",
       "   month  day  \n",
       "0      5   22  \n",
       "1     11   26  \n",
       "2      2   22  \n",
       "3      6   24  \n",
       "4      3   22  "
      ]
     },
     "execution_count": 13,
     "metadata": {},
     "output_type": "execute_result"
    }
   ],
   "source": [
    "df.head()"
   ]
  },
  {
   "cell_type": "markdown",
   "id": "b344c088",
   "metadata": {},
   "source": [
    "# entity type and number of clients"
   ]
  },
  {
   "cell_type": "code",
   "execution_count": 14,
   "id": "84d55f63",
   "metadata": {},
   "outputs": [
    {
     "data": {
      "text/html": [
       "<div>\n",
       "<style scoped>\n",
       "    .dataframe tbody tr th:only-of-type {\n",
       "        vertical-align: middle;\n",
       "    }\n",
       "\n",
       "    .dataframe tbody tr th {\n",
       "        vertical-align: top;\n",
       "    }\n",
       "\n",
       "    .dataframe thead th {\n",
       "        text-align: right;\n",
       "    }\n",
       "</style>\n",
       "<table border=\"1\" class=\"dataframe\">\n",
       "  <thead>\n",
       "    <tr style=\"text-align: right;\">\n",
       "      <th></th>\n",
       "      <th>entity_type</th>\n",
       "      <th>number_of_clients</th>\n",
       "    </tr>\n",
       "  </thead>\n",
       "  <tbody>\n",
       "    <tr>\n",
       "      <th>0</th>\n",
       "      <td>Australian Private Company</td>\n",
       "      <td>751</td>\n",
       "    </tr>\n",
       "    <tr>\n",
       "      <th>1</th>\n",
       "      <td>Australian Proprietary Company</td>\n",
       "      <td>1</td>\n",
       "    </tr>\n",
       "    <tr>\n",
       "      <th>2</th>\n",
       "      <td>Australian Public Company</td>\n",
       "      <td>6</td>\n",
       "    </tr>\n",
       "    <tr>\n",
       "      <th>3</th>\n",
       "      <td>Discretionary Investment Trust</td>\n",
       "      <td>3</td>\n",
       "    </tr>\n",
       "    <tr>\n",
       "      <th>4</th>\n",
       "      <td>Discretionary Trading Trust</td>\n",
       "      <td>12</td>\n",
       "    </tr>\n",
       "    <tr>\n",
       "      <th>5</th>\n",
       "      <td>Family Partnership</td>\n",
       "      <td>39</td>\n",
       "    </tr>\n",
       "    <tr>\n",
       "      <th>6</th>\n",
       "      <td>Fixed Unit Trust</td>\n",
       "      <td>4</td>\n",
       "    </tr>\n",
       "    <tr>\n",
       "      <th>7</th>\n",
       "      <td>Hybrid Trust</td>\n",
       "      <td>1</td>\n",
       "    </tr>\n",
       "    <tr>\n",
       "      <th>8</th>\n",
       "      <td>Individual/Sole Trader</td>\n",
       "      <td>457</td>\n",
       "    </tr>\n",
       "    <tr>\n",
       "      <th>9</th>\n",
       "      <td>Other Partnership</td>\n",
       "      <td>10</td>\n",
       "    </tr>\n",
       "  </tbody>\n",
       "</table>\n",
       "</div>"
      ],
      "text/plain": [
       "                      entity_type  number_of_clients\n",
       "0      Australian Private Company                751\n",
       "1  Australian Proprietary Company                  1\n",
       "2       Australian Public Company                  6\n",
       "3  Discretionary Investment Trust                  3\n",
       "4     Discretionary Trading Trust                 12\n",
       "5              Family Partnership                 39\n",
       "6                Fixed Unit Trust                  4\n",
       "7                    Hybrid Trust                  1\n",
       "8          Individual/Sole Trader                457\n",
       "9               Other Partnership                 10"
      ]
     },
     "execution_count": 14,
     "metadata": {},
     "output_type": "execute_result"
    }
   ],
   "source": [
    "# entity type and number of clients\n",
    "\n",
    "df.groupby('entity_type')['client_id'].nunique().reset_index(name='number_of_clients')"
   ]
  },
  {
   "cell_type": "markdown",
   "id": "8960a1fa",
   "metadata": {},
   "source": [
    " The above output DataFrame shows various entity types alongside their corresponding client counts, \n",
    " highlighting \"Australian Private Company\" and \"Individual/Sole Trader\" as the most prevalent types \n",
    " with 751 and 457 clients respectively. This output aids in analyzing client distribution across \n",
    " different business structures."
   ]
  },
  {
   "cell_type": "markdown",
   "id": "4cd29a43",
   "metadata": {},
   "source": [
    "# filter by Australian Private Company and DEFAULT payment code"
   ]
  },
  {
   "cell_type": "code",
   "execution_count": 15,
   "id": "a86aa2d0",
   "metadata": {},
   "outputs": [
    {
     "data": {
      "text/html": [
       "<div>\n",
       "<style scoped>\n",
       "    .dataframe tbody tr th:only-of-type {\n",
       "        vertical-align: middle;\n",
       "    }\n",
       "\n",
       "    .dataframe tbody tr th {\n",
       "        vertical-align: top;\n",
       "    }\n",
       "\n",
       "    .dataframe thead th {\n",
       "        text-align: right;\n",
       "    }\n",
       "</style>\n",
       "<table border=\"1\" class=\"dataframe\">\n",
       "  <thead>\n",
       "    <tr style=\"text-align: right;\">\n",
       "      <th></th>\n",
       "      <th>client_id</th>\n",
       "      <th>count_of_defaults</th>\n",
       "    </tr>\n",
       "  </thead>\n",
       "  <tbody>\n",
       "    <tr>\n",
       "      <th>143</th>\n",
       "      <td>859.0</td>\n",
       "      <td>34</td>\n",
       "    </tr>\n",
       "    <tr>\n",
       "      <th>62</th>\n",
       "      <td>413.0</td>\n",
       "      <td>32</td>\n",
       "    </tr>\n",
       "    <tr>\n",
       "      <th>180</th>\n",
       "      <td>1124.0</td>\n",
       "      <td>27</td>\n",
       "    </tr>\n",
       "    <tr>\n",
       "      <th>163</th>\n",
       "      <td>995.0</td>\n",
       "      <td>25</td>\n",
       "    </tr>\n",
       "    <tr>\n",
       "      <th>86</th>\n",
       "      <td>569.0</td>\n",
       "      <td>23</td>\n",
       "    </tr>\n",
       "    <tr>\n",
       "      <th>...</th>\n",
       "      <td>...</td>\n",
       "      <td>...</td>\n",
       "    </tr>\n",
       "    <tr>\n",
       "      <th>136</th>\n",
       "      <td>813.0</td>\n",
       "      <td>1</td>\n",
       "    </tr>\n",
       "    <tr>\n",
       "      <th>48</th>\n",
       "      <td>335.0</td>\n",
       "      <td>1</td>\n",
       "    </tr>\n",
       "    <tr>\n",
       "      <th>49</th>\n",
       "      <td>337.0</td>\n",
       "      <td>1</td>\n",
       "    </tr>\n",
       "    <tr>\n",
       "      <th>50</th>\n",
       "      <td>338.0</td>\n",
       "      <td>1</td>\n",
       "    </tr>\n",
       "    <tr>\n",
       "      <th>97</th>\n",
       "      <td>659.0</td>\n",
       "      <td>1</td>\n",
       "    </tr>\n",
       "  </tbody>\n",
       "</table>\n",
       "<p>195 rows × 2 columns</p>\n",
       "</div>"
      ],
      "text/plain": [
       "     client_id  count_of_defaults\n",
       "143      859.0                 34\n",
       "62       413.0                 32\n",
       "180     1124.0                 27\n",
       "163      995.0                 25\n",
       "86       569.0                 23\n",
       "..         ...                ...\n",
       "136      813.0                  1\n",
       "48       335.0                  1\n",
       "49       337.0                  1\n",
       "50       338.0                  1\n",
       "97       659.0                  1\n",
       "\n",
       "[195 rows x 2 columns]"
      ]
     },
     "execution_count": 15,
     "metadata": {},
     "output_type": "execute_result"
    }
   ],
   "source": [
    "# filter by entity name and payment code\n",
    "filtered_df = df[(df['entity_type'] == 'Australian Private Company') & (df['payment_code'] == 'DEFAULT')]\n",
    "\n",
    "# Group by 'client_id' and count defaults\n",
    "client_defaults = filtered_df.groupby('client_id').size().reset_index(name='count_of_defaults')\n",
    "\n",
    "# Sort the results from highest to lowest number of defaults\n",
    "sorted_clients = client_defaults.sort_values('count_of_defaults', ascending=False)\n",
    "\n",
    "sorted_clients"
   ]
  },
  {
   "cell_type": "markdown",
   "id": "f9fa2dce",
   "metadata": {},
   "source": [
    "The output from above gives clients by their ID along with the number of times they defaulted on \n",
    "payments, arranged from the most defaults to the least."
   ]
  },
  {
   "cell_type": "markdown",
   "id": "bcd49c60",
   "metadata": {},
   "source": [
    "# filter by Individual/Sole Trader and DEFAULT payment code"
   ]
  },
  {
   "cell_type": "code",
   "execution_count": 16,
   "id": "7d89ed97",
   "metadata": {},
   "outputs": [
    {
     "data": {
      "text/html": [
       "<div>\n",
       "<style scoped>\n",
       "    .dataframe tbody tr th:only-of-type {\n",
       "        vertical-align: middle;\n",
       "    }\n",
       "\n",
       "    .dataframe tbody tr th {\n",
       "        vertical-align: top;\n",
       "    }\n",
       "\n",
       "    .dataframe thead th {\n",
       "        text-align: right;\n",
       "    }\n",
       "</style>\n",
       "<table border=\"1\" class=\"dataframe\">\n",
       "  <thead>\n",
       "    <tr style=\"text-align: right;\">\n",
       "      <th></th>\n",
       "      <th>client_id</th>\n",
       "      <th>count_of_defaults</th>\n",
       "    </tr>\n",
       "  </thead>\n",
       "  <tbody>\n",
       "    <tr>\n",
       "      <th>26</th>\n",
       "      <td>231.0</td>\n",
       "      <td>26</td>\n",
       "    </tr>\n",
       "    <tr>\n",
       "      <th>98</th>\n",
       "      <td>718.0</td>\n",
       "      <td>25</td>\n",
       "    </tr>\n",
       "    <tr>\n",
       "      <th>32</th>\n",
       "      <td>289.0</td>\n",
       "      <td>23</td>\n",
       "    </tr>\n",
       "    <tr>\n",
       "      <th>101</th>\n",
       "      <td>726.0</td>\n",
       "      <td>22</td>\n",
       "    </tr>\n",
       "    <tr>\n",
       "      <th>69</th>\n",
       "      <td>463.0</td>\n",
       "      <td>21</td>\n",
       "    </tr>\n",
       "    <tr>\n",
       "      <th>...</th>\n",
       "      <td>...</td>\n",
       "      <td>...</td>\n",
       "    </tr>\n",
       "    <tr>\n",
       "      <th>83</th>\n",
       "      <td>610.0</td>\n",
       "      <td>1</td>\n",
       "    </tr>\n",
       "    <tr>\n",
       "      <th>97</th>\n",
       "      <td>716.0</td>\n",
       "      <td>1</td>\n",
       "    </tr>\n",
       "    <tr>\n",
       "      <th>95</th>\n",
       "      <td>690.0</td>\n",
       "      <td>1</td>\n",
       "    </tr>\n",
       "    <tr>\n",
       "      <th>90</th>\n",
       "      <td>667.0</td>\n",
       "      <td>1</td>\n",
       "    </tr>\n",
       "    <tr>\n",
       "      <th>25</th>\n",
       "      <td>220.0</td>\n",
       "      <td>1</td>\n",
       "    </tr>\n",
       "  </tbody>\n",
       "</table>\n",
       "<p>150 rows × 2 columns</p>\n",
       "</div>"
      ],
      "text/plain": [
       "     client_id  count_of_defaults\n",
       "26       231.0                 26\n",
       "98       718.0                 25\n",
       "32       289.0                 23\n",
       "101      726.0                 22\n",
       "69       463.0                 21\n",
       "..         ...                ...\n",
       "83       610.0                  1\n",
       "97       716.0                  1\n",
       "95       690.0                  1\n",
       "90       667.0                  1\n",
       "25       220.0                  1\n",
       "\n",
       "[150 rows x 2 columns]"
      ]
     },
     "execution_count": 16,
     "metadata": {},
     "output_type": "execute_result"
    }
   ],
   "source": [
    "# filter by entity name and payment code\n",
    "filtered_df = df[(df['entity_type'] == 'Individual/Sole Trader') & (df['payment_code'] == 'DEFAULT')]\n",
    "\n",
    "# Group by 'client_id' and count defaults\n",
    "client_defaults = filtered_df.groupby('client_id').size().reset_index(name='count_of_defaults')\n",
    "\n",
    "# Sort the results from highest to lowest number of defaults\n",
    "sorted_clients = client_defaults.sort_values('count_of_defaults', ascending=False)\n",
    "\n",
    "sorted_clients"
   ]
  },
  {
   "cell_type": "markdown",
   "id": "af958324",
   "metadata": {},
   "source": [
    "The output from above gives clients by their ID along with the number of times they defaulted on payments,entity name is Individual/Sole, and arranged from the most defaults to the least"
   ]
  },
  {
   "cell_type": "code",
   "execution_count": 17,
   "id": "456cfe2e",
   "metadata": {},
   "outputs": [],
   "source": [
    "# The code filters a DataFrame to include only rows where entity_type is 'Individual/Sole Trader' \n",
    "# and payment_code is 'DEFAULT', then groups by client_id to count occurrences, and sorts these \n",
    "# counts in descending order. The final output lists clients based on their frequency of default \n",
    "# payments, from highest to lowest."
   ]
  },
  {
   "cell_type": "markdown",
   "id": "fbaa2339",
   "metadata": {},
   "source": [
    "# Total Default Clients"
   ]
  },
  {
   "cell_type": "code",
   "execution_count": 18,
   "id": "f4857d3e",
   "metadata": {},
   "outputs": [
    {
     "data": {
      "text/html": [
       "<div>\n",
       "<style scoped>\n",
       "    .dataframe tbody tr th:only-of-type {\n",
       "        vertical-align: middle;\n",
       "    }\n",
       "\n",
       "    .dataframe tbody tr th {\n",
       "        vertical-align: top;\n",
       "    }\n",
       "\n",
       "    .dataframe thead th {\n",
       "        text-align: right;\n",
       "    }\n",
       "</style>\n",
       "<table border=\"1\" class=\"dataframe\">\n",
       "  <thead>\n",
       "    <tr style=\"text-align: right;\">\n",
       "      <th></th>\n",
       "      <th>client_id</th>\n",
       "      <th>entity_type</th>\n",
       "      <th>entity_year_established</th>\n",
       "      <th>count_of_defaults</th>\n",
       "    </tr>\n",
       "  </thead>\n",
       "  <tbody>\n",
       "    <tr>\n",
       "      <th>269</th>\n",
       "      <td>859.0</td>\n",
       "      <td>Australian Private Company</td>\n",
       "      <td>2011</td>\n",
       "      <td>34</td>\n",
       "    </tr>\n",
       "    <tr>\n",
       "      <th>127</th>\n",
       "      <td>413.0</td>\n",
       "      <td>Australian Private Company</td>\n",
       "      <td>2014</td>\n",
       "      <td>32</td>\n",
       "    </tr>\n",
       "    <tr>\n",
       "      <th>340</th>\n",
       "      <td>1124.0</td>\n",
       "      <td>Australian Private Company</td>\n",
       "      <td>2015</td>\n",
       "      <td>27</td>\n",
       "    </tr>\n",
       "    <tr>\n",
       "      <th>59</th>\n",
       "      <td>231.0</td>\n",
       "      <td>Individual/Sole Trader</td>\n",
       "      <td>2016</td>\n",
       "      <td>26</td>\n",
       "    </tr>\n",
       "    <tr>\n",
       "      <th>221</th>\n",
       "      <td>718.0</td>\n",
       "      <td>Individual/Sole Trader</td>\n",
       "      <td>2012</td>\n",
       "      <td>25</td>\n",
       "    </tr>\n",
       "    <tr>\n",
       "      <th>...</th>\n",
       "      <td>...</td>\n",
       "      <td>...</td>\n",
       "      <td>...</td>\n",
       "      <td>...</td>\n",
       "    </tr>\n",
       "    <tr>\n",
       "      <th>55</th>\n",
       "      <td>220.0</td>\n",
       "      <td>Individual/Sole Trader</td>\n",
       "      <td>2003</td>\n",
       "      <td>1</td>\n",
       "    </tr>\n",
       "    <tr>\n",
       "      <th>49</th>\n",
       "      <td>192.0</td>\n",
       "      <td>Australian Private Company</td>\n",
       "      <td>2000</td>\n",
       "      <td>1</td>\n",
       "    </tr>\n",
       "    <tr>\n",
       "      <th>312</th>\n",
       "      <td>1022.0</td>\n",
       "      <td>Australian Private Company</td>\n",
       "      <td>2003</td>\n",
       "      <td>1</td>\n",
       "    </tr>\n",
       "    <tr>\n",
       "      <th>169</th>\n",
       "      <td>557.0</td>\n",
       "      <td>Australian Private Company</td>\n",
       "      <td>1999</td>\n",
       "      <td>1</td>\n",
       "    </tr>\n",
       "    <tr>\n",
       "      <th>184</th>\n",
       "      <td>610.0</td>\n",
       "      <td>Individual/Sole Trader</td>\n",
       "      <td>2000</td>\n",
       "      <td>1</td>\n",
       "    </tr>\n",
       "  </tbody>\n",
       "</table>\n",
       "<p>368 rows × 4 columns</p>\n",
       "</div>"
      ],
      "text/plain": [
       "     client_id                 entity_type  entity_year_established  \\\n",
       "269      859.0  Australian Private Company                     2011   \n",
       "127      413.0  Australian Private Company                     2014   \n",
       "340     1124.0  Australian Private Company                     2015   \n",
       "59       231.0      Individual/Sole Trader                     2016   \n",
       "221      718.0      Individual/Sole Trader                     2012   \n",
       "..         ...                         ...                      ...   \n",
       "55       220.0      Individual/Sole Trader                     2003   \n",
       "49       192.0  Australian Private Company                     2000   \n",
       "312     1022.0  Australian Private Company                     2003   \n",
       "169      557.0  Australian Private Company                     1999   \n",
       "184      610.0      Individual/Sole Trader                     2000   \n",
       "\n",
       "     count_of_defaults  \n",
       "269                 34  \n",
       "127                 32  \n",
       "340                 27  \n",
       "59                  26  \n",
       "221                 25  \n",
       "..                 ...  \n",
       "55                   1  \n",
       "49                   1  \n",
       "312                  1  \n",
       "169                  1  \n",
       "184                  1  \n",
       "\n",
       "[368 rows x 4 columns]"
      ]
     },
     "execution_count": 18,
     "metadata": {},
     "output_type": "execute_result"
    }
   ],
   "source": [
    "default_payments_df = df[df['payment_code'] == 'DEFAULT']\n",
    "\n",
    "# Group by 'client_id' and 'entity_type', and count the number of defaults for each client\n",
    "client_default_counts = default_payments_df.groupby(['client_id', 'entity_type','entity_year_established']).size().reset_index(name='count_of_defaults')\n",
    "\n",
    "# Sort the results from highest to lowest defaults\n",
    "client_default_counts_sorted = client_default_counts.sort_values(by='count_of_defaults', ascending=False)\n",
    "\n",
    "client_default_counts_sorted"
   ]
  },
  {
   "cell_type": "markdown",
   "id": "5b757024",
   "metadata": {},
   "source": [
    "The output from above gives clientsID, entity type, year established along with the total number of times they defaulted on payments."
   ]
  },
  {
   "cell_type": "markdown",
   "id": "a862e356",
   "metadata": {},
   "source": [
    "# Yearly Transactions with Payments and Defaults"
   ]
  },
  {
   "cell_type": "code",
   "execution_count": 19,
   "id": "f6c8593d",
   "metadata": {},
   "outputs": [
    {
     "data": {
      "image/png": "[encoded data removed]",
      "text/plain": [
       "<Figure size 1000x600 with 1 Axes>"
      ]
     },
     "metadata": {},
     "output_type": "display_data"
    }
   ],
   "source": [
    "# Plotting yearly distribution of payment codes\n",
    "plt.figure(figsize=(10, 6))\n",
    "custom_palette = ['green','red']\n",
    "year_ax = sns.countplot(x='year', hue='payment_code', data=df, palette=custom_palette)\n",
    "plt.title('Yearly Distribution of Transactions')\n",
    "plt.xlabel('Year')\n",
    "plt.ylabel('Count of Transactions')\n",
    "plt.legend(title='Payment Code')\n",
    "\n",
    "for p in year_ax.patches:\n",
    "    height = p.get_height()\n",
    "    if pd.notna(height):\n",
    "        year_ax.annotate(f'{int(height)}', (p.get_x() + p.get_width() / 2., height),\n",
    "                          ha='center', va='center', fontsize=10, color='black', rotation=0, xytext=(0, 10),\n",
    "                          textcoords='offset points')\n",
    "\n",
    "plt.show()"
   ]
  },
  {
   "cell_type": "markdown",
   "id": "d7de99e6",
   "metadata": {},
   "source": [
    "The bar chart shows the yearly transactions for 2017 and 2018, comparing regular payments and defaults."
   ]
  },
  {
   "cell_type": "markdown",
   "id": "1a9e8c5d",
   "metadata": {},
   "source": [
    "# Categories amount of payment and percentage"
   ]
  },
  {
   "cell_type": "code",
   "execution_count": 20,
   "id": "581927df",
   "metadata": {},
   "outputs": [
    {
     "name": "stdout",
     "output_type": "stream",
     "text": [
      "amount_category      0-100    101-500   501-1000  1001-5000  5001-10000\n",
      "payment_code                                                           \n",
      "DEFAULT          26.780884  42.786294  15.058611  14.968440    0.405771\n",
      "PAYMENT          26.945951  39.946650  14.443764  17.133112    1.530523\n"
     ]
    }
   ],
   "source": [
    "# Define bins and labels\n",
    "bins = [0, 100, 500, 1000, 5000, 10000]\n",
    "labels = ['0-100', '101-500', '501-1000', '1001-5000', '5001-10000']\n",
    "\n",
    "# Create a new column 'amount_category'\n",
    "df['amount_category'] = pd.cut(df['payment_amt'], bins=bins, labels=labels, right=False)\n",
    "\n",
    "# Group by both 'payment_code' and 'amount_category'\n",
    "category_summary = df.groupby(['payment_code', 'amount_category']).size().unstack(fill_value=0)\n",
    "\n",
    "#print(category_summary)\n",
    "# Assuming 'category_summary' is your DataFrame from the grouping operation\n",
    "# Calculate percentage of each category within each payment code\n",
    "total_by_code = category_summary.sum(axis=1)  # Total transactions per payment code\n",
    "percent_summary = category_summary.divide(total_by_code, axis=0) * 100  # Percentages\n",
    "\n",
    "print(percent_summary)"
   ]
  },
  {
   "cell_type": "code",
   "execution_count": 21,
   "id": "d042187f",
   "metadata": {},
   "outputs": [
    {
     "data": {
      "image/png": "[encoded data removed]",
      "text/plain": [
       "<Figure size 1200x800 with 1 Axes>"
      ]
     },
     "metadata": {},
     "output_type": "display_data"
    }
   ],
   "source": [
    "# Plotting the data with percentages\n",
    "fig, ax = plt.subplots(figsize=(12, 8))\n",
    "percent_summary.plot(kind='bar', stacked=True, ax=ax, color=['#1f77b4', '#ff7f0e', '#2ca02c', '#d62728', '#9467bd'])\n",
    "plt.title('Transaction Amount Categories by Payment Code (Percentages)')\n",
    "plt.xlabel('Payment Code')\n",
    "plt.ylabel('Percentage of Transactions')\n",
    "plt.xticks(rotation=0)\n",
    "plt.legend(title='Amount Category')\n",
    "\n",
    "# Adding annotations for percentages\n",
    "for n, x in enumerate([p for p in ax.patches]):\n",
    "    width, height = x.get_width(), x.get_height()\n",
    "    x0, y0 = x.get_xy()\n",
    "    ax.text(x0 + width/2, y0 + height/2, f\"{height:.1f}%\", ha='center', va='center', color='white', fontsize=8, weight='bold')\n",
    "\n",
    "plt.show()\n"
   ]
  },
  {
   "cell_type": "markdown",
   "id": "33477671",
   "metadata": {},
   "source": [
    "the bar chart shows the percentage of transactions within specific amount ranges for defaults and payments. It illustrates that most defaults and payments occur in lower amount ranges, with defaults slightly more frequent in the smallest category."
   ]
  },
  {
   "cell_type": "markdown",
   "id": "24ba6b85",
   "metadata": {},
   "source": [
    "# Total payments made in 2017"
   ]
  },
  {
   "cell_type": "code",
   "execution_count": 22,
   "id": "7ba7d872",
   "metadata": {},
   "outputs": [
    {
     "data": {
      "image/png": "[encoded data removed]",
      "text/plain": [
       "<Figure size 1200x800 with 1 Axes>"
      ]
     },
     "metadata": {},
     "output_type": "display_data"
    }
   ],
   "source": [
    "df_2017 = df[df['year'] == 2017].copy()\n",
    "\n",
    "# Create a column for the day of the week using .loc\n",
    "df_2017.loc[:, 'day_of_week'] = df_2017['transaction_date'].dt.day_name()\n",
    "\n",
    "# Group by 'day_of_week' and 'payment_code'\n",
    "payments_by_day = df_2017.groupby(['day_of_week', 'payment_code']).size().unstack(fill_value=0)\n",
    "\n",
    "# Reorder the days for correct plotting\n",
    "days_order = ['Monday', 'Tuesday', 'Wednesday', 'Thursday', 'Friday', 'Saturday', 'Sunday']\n",
    "payments_by_day = payments_by_day.reindex(days_order)\n",
    "\n",
    "# Assuming df_2017 and payments_by_day have been correctly set up from previous steps\n",
    "# Set up the matplotlib figure\n",
    "plt.figure(figsize=(12, 8))\n",
    "\n",
    "# Define the bar width\n",
    "bar_width = 0.35\n",
    "\n",
    "# Set the position of the bars\n",
    "index = np.arange(len(days_order))\n",
    "\n",
    "# Plotting DEFAULT\n",
    "bars1 = plt.bar(index, payments_by_day['DEFAULT'], bar_width, label='DEFAULT', color='red')\n",
    "\n",
    "# Plotting PAYMENT\n",
    "bars2 = plt.bar(index + bar_width, payments_by_day['PAYMENT'], bar_width, label='PAYMENT', color='green')\n",
    "\n",
    "# Adding labels and titles\n",
    "plt.xlabel('Day of the Week')\n",
    "plt.ylabel('Count of Transactions')\n",
    "plt.title('Distribution of Payment Codes by Day of the Week in 2017')\n",
    "plt.xticks(index + bar_width / 2, days_order)  # Positioning the x-axis labels in the middle of the grouped bars\n",
    "plt.legend()\n",
    "\n",
    "# Function to add a label on each bar\n",
    "def add_labels(bars):\n",
    "    for bar in bars:\n",
    "        height = bar.get_height()\n",
    "        plt.annotate('{}'.format(height),\n",
    "                     xy=(bar.get_x() + bar.get_width() / 2, height),\n",
    "                     xytext=(0, 3),  # 3 points vertical offset\n",
    "                     textcoords=\"offset points\",\n",
    "                     ha='center', va='bottom')\n",
    "\n",
    "# Call the function to add labels\n",
    "add_labels(bars1)\n",
    "add_labels(bars2)\n",
    "\n",
    "# Show the plot\n",
    "plt.tight_layout()\n",
    "plt.show()"
   ]
  },
  {
   "cell_type": "markdown",
   "id": "f281656a",
   "metadata": {},
   "source": [
    "The bar chart shows the number of transactions for each day of the week in 2017, with regular payments being much higher than defaults every day"
   ]
  },
  {
   "cell_type": "markdown",
   "id": "4e01b61e",
   "metadata": {},
   "source": [
    "# Total payments made in 2018"
   ]
  },
  {
   "cell_type": "code",
   "execution_count": 23,
   "id": "cac125f6",
   "metadata": {},
   "outputs": [
    {
     "data": {
      "image/png": "[encoded data removed]",
      "text/plain": [
       "<Figure size 1200x800 with 1 Axes>"
      ]
     },
     "metadata": {},
     "output_type": "display_data"
    }
   ],
   "source": [
    "df_2018 = df[df['year'] == 2018].copy()\n",
    "\n",
    "# Create a column for the day of the week using .loc\n",
    "df_2018.loc[:, 'day_of_week'] = df_2018['transaction_date'].dt.day_name()\n",
    "\n",
    "# Group by 'day_of_week' and 'payment_code'\n",
    "payments_by_day = df_2018.groupby(['day_of_week', 'payment_code']).size().unstack(fill_value=0)\n",
    "\n",
    "# Reorder the days for correct plotting\n",
    "days_order = ['Monday', 'Tuesday', 'Wednesday', 'Thursday', 'Friday', 'Saturday', 'Sunday']\n",
    "payments_by_day = payments_by_day.reindex(days_order)\n",
    "\n",
    "# Assuming df_2018 and payments_by_day have been correctly set up from previous steps\n",
    "# Set up the matplotlib figure\n",
    "plt.figure(figsize=(12, 8))\n",
    "\n",
    "# Define the bar width\n",
    "bar_width = 0.35\n",
    "\n",
    "# Set the position of the bars\n",
    "index = np.arange(len(days_order))\n",
    "\n",
    "# Plotting DEFAULT\n",
    "bars1 = plt.bar(index, payments_by_day['DEFAULT'], bar_width, label='DEFAULT', color='red')\n",
    "\n",
    "# Plotting PAYMENT\n",
    "bars2 = plt.bar(index + bar_width, payments_by_day['PAYMENT'], bar_width, label='PAYMENT', color='green')\n",
    "\n",
    "# Adding labels and titles\n",
    "plt.xlabel('Day of the Week')\n",
    "plt.ylabel('Count of Transactions')\n",
    "plt.title('Distribution of Payment Codes by Day of the Week in 2018')\n",
    "plt.xticks(index + bar_width / 2, days_order)  # Positioning the x-axis labels in the middle of the grouped bars\n",
    "plt.legend()\n",
    "\n",
    "# Function to add a label on each bar\n",
    "def add_labels(bars):\n",
    "    for bar in bars:\n",
    "        height = bar.get_height()\n",
    "        plt.annotate('{}'.format(height),\n",
    "                     xy=(bar.get_x() + bar.get_width() / 2, height),\n",
    "                     xytext=(0, 3),  # 3 points vertical offset\n",
    "                     textcoords=\"offset points\",\n",
    "                     ha='center', va='bottom')\n",
    "\n",
    "# Call the function to add labels\n",
    "add_labels(bars1)\n",
    "add_labels(bars2)\n",
    "\n",
    "# Show the plot\n",
    "plt.tight_layout()\n",
    "plt.show()"
   ]
  },
  {
   "cell_type": "markdown",
   "id": "69884d6f",
   "metadata": {},
   "source": [
    "The chart shows the number of transactions for each day of the week in 2018, with regular payments being much higher than defaults every day"
   ]
  },
  {
   "cell_type": "markdown",
   "id": "a2f27248",
   "metadata": {},
   "source": [
    "# Total payments done by days"
   ]
  },
  {
   "cell_type": "code",
   "execution_count": 24,
   "id": "a2d32f3d",
   "metadata": {},
   "outputs": [
    {
     "data": {
      "image/png": "[encoded data removed]",
      "text/plain": [
       "<Figure size 1000x600 with 1 Axes>"
      ]
     },
     "metadata": {},
     "output_type": "display_data"
    }
   ],
   "source": [
    "plt.figure(figsize=(10, 6))\n",
    "custom_palette = ['green','red']\n",
    "ax = sns.countplot(x='day_name', hue='payment_code', data=df, palette=custom_palette,\n",
    "                   order=['Monday', 'Tuesday', 'Wednesday', 'Thursday', 'Friday', 'Saturday', 'Sunday'])\n",
    "plt.title('Distribution of Payment Codes by Day of the Week')\n",
    "plt.xlabel('Day of the Week')\n",
    "plt.ylabel('Count of Transactions')\n",
    "plt.legend(title='Payment Code')\n",
    "\n",
    "for p in ax.patches:\n",
    "    height = p.get_height()\n",
    "    if pd.notna(height):  \n",
    "        ax.annotate(f'{int(height)}', (p.get_x() + p.get_width() / 2., height),\n",
    "                    ha='center', va='center', fontsize=10, color='black', rotation=0, xytext=(0, 10),\n",
    "                    textcoords='offset points')\n",
    "    else:\n",
    "        continue  \n",
    "\n",
    "plt.show()"
   ]
  },
  {
   "cell_type": "markdown",
   "id": "171da6e5",
   "metadata": {},
   "source": [
    "The chart shows the number of transactions for each day of the week, with regular payments being much higher than defaults every day"
   ]
  },
  {
   "cell_type": "markdown",
   "id": "4cca23d6",
   "metadata": {},
   "source": [
    "# Transactions done by Australian Private Company that are defaults"
   ]
  },
  {
   "cell_type": "code",
   "execution_count": 25,
   "id": "903519ee",
   "metadata": {},
   "outputs": [
    {
     "data": {
      "image/png": "[encoded data removed]",
      "text/plain": [
       "<Figure size 1200x600 with 1 Axes>"
      ]
     },
     "metadata": {},
     "output_type": "display_data"
    }
   ],
   "source": [
    "defaults_df = df[(df['payment_code'] == 'DEFAULT') & (df['entity_type'] == \"Australian Private Company\")].copy()\n",
    "payments_df = df[(df['payment_code'] != 'DEFAULT') & (df['entity_type'] == \"Australian Private Company\")].copy()\n",
    "\n",
    "# Create a column for the day of the week if not already present\n",
    "defaults_df['day_name'] = defaults_df['transaction_date'].dt.day_name()\n",
    "payments_df['day_name'] = payments_df['transaction_date'].dt.day_name()\n",
    "\n",
    "# Group by 'day_name' and count defaults and payments\n",
    "defaults_by_day = defaults_df.groupby('day_name').size().reset_index(name='count_of_defaults')\n",
    "payments_by_day = payments_df.groupby('day_name').size().reset_index(name='count_of_payments')\n",
    "\n",
    "# Merge the dataframes on 'day_name'\n",
    "merged_df = pd.merge(defaults_by_day, payments_by_day, on='day_name', how='outer').fillna(0)\n",
    "\n",
    "# Reorder the days of the week for correct plotting\n",
    "days_order = ['Monday', 'Tuesday', 'Wednesday', 'Thursday', 'Friday', 'Saturday', 'Sunday']\n",
    "merged_df['day_name'] = pd.Categorical(merged_df['day_name'], categories=days_order, ordered=True)\n",
    "merged_df = merged_df.sort_values('day_name')\n",
    "\n",
    "# Plotting the data\n",
    "plt.figure(figsize=(12, 6))\n",
    "bar_width = 0.35  # Set the width of each bar\n",
    "index = range(len(merged_df['day_name']))\n",
    "\n",
    "bars1 = plt.bar(index, merged_df['count_of_defaults'], bar_width, label='Defaults', color='red')\n",
    "bars2 = plt.bar([p + bar_width for p in index], merged_df['count_of_payments'], bar_width, label='Payments', color='green')\n",
    "\n",
    "plt.xlabel('Day of the Week')\n",
    "plt.ylabel('Transaction Count')\n",
    "plt.title('Transaction Counts by Day of the Week for Australian Private Company')\n",
    "plt.xticks([p + bar_width / 2 for p in index], merged_df['day_name'], rotation=45)\n",
    "plt.legend()\n",
    "plt.grid(True, axis='y')\n",
    "\n",
    "# Add labels on top of each bar\n",
    "def add_labels(bars):\n",
    "    for bar in bars:\n",
    "        height = bar.get_height()\n",
    "        plt.annotate(f'{int(height)}',\n",
    "                     xy=(bar.get_x() + bar.get_width() / 2, height),\n",
    "                     xytext=(0, 3),  # 3 points vertical offset\n",
    "                     textcoords=\"offset points\",\n",
    "                     ha='center', va='bottom')\n",
    "\n",
    "add_labels(bars1)\n",
    "add_labels(bars2)\n",
    "\n",
    "plt.show()"
   ]
  },
  {
   "cell_type": "markdown",
   "id": "e9ba62c9",
   "metadata": {},
   "source": [
    "The chart shows the number of transactions for each day of the week for Australian Private Company, with regular payments being much higher than defaults every day"
   ]
  },
  {
   "cell_type": "markdown",
   "id": "0d1452c9",
   "metadata": {},
   "source": [
    "# Transactions done by Individual/Sole Trader that are defaults"
   ]
  },
  {
   "cell_type": "code",
   "execution_count": 26,
   "id": "f3fdfec3",
   "metadata": {},
   "outputs": [
    {
     "data": {
      "image/png": "[encoded data removed]",
      "text/plain": [
       "<Figure size 1200x600 with 1 Axes>"
      ]
     },
     "metadata": {},
     "output_type": "display_data"
    }
   ],
   "source": [
    "defaults_df = df[(df['payment_code'] == 'DEFAULT') & (df['entity_type'] == \"Individual/Sole Trader\")].copy()\n",
    "payments_df = df[(df['payment_code'] != 'DEFAULT') & (df['entity_type'] == \"Individual/Sole Trader\")].copy()\n",
    "\n",
    "# Create a column for the day of the week if not already present\n",
    "defaults_df['day_name'] = defaults_df['transaction_date'].dt.day_name()\n",
    "payments_df['day_name'] = payments_df['transaction_date'].dt.day_name()\n",
    "\n",
    "# Group by 'day_name' and count defaults and payments\n",
    "defaults_by_day = defaults_df.groupby('day_name').size().reset_index(name='count_of_defaults')\n",
    "payments_by_day = payments_df.groupby('day_name').size().reset_index(name='count_of_payments')\n",
    "\n",
    "# Merge the dataframes on 'day_name'\n",
    "merged_df = pd.merge(defaults_by_day, payments_by_day, on='day_name', how='outer').fillna(0)\n",
    "\n",
    "# Reorder the days of the week for correct plotting\n",
    "days_order = ['Monday', 'Tuesday', 'Wednesday', 'Thursday', 'Friday', 'Saturday', 'Sunday']\n",
    "merged_df['day_name'] = pd.Categorical(merged_df['day_name'], categories=days_order, ordered=True)\n",
    "merged_df = merged_df.sort_values('day_name')\n",
    "\n",
    "# Plotting the data\n",
    "plt.figure(figsize=(12, 6))\n",
    "bar_width = 0.35  # Set the width of each bar\n",
    "index = range(len(merged_df['day_name']))\n",
    "\n",
    "bars1 = plt.bar(index, merged_df['count_of_defaults'], bar_width, label='Defaults', color='red')\n",
    "bars2 = plt.bar([p + bar_width for p in index], merged_df['count_of_payments'], bar_width, label='Payments', color='green')\n",
    "\n",
    "plt.xlabel('Day of the Week')\n",
    "plt.ylabel('Transaction Count')\n",
    "plt.title('Transaction Counts by Day of the Week for Individual/Sole Trader')\n",
    "plt.xticks([p + bar_width / 2 for p in index], merged_df['day_name'], rotation=45)\n",
    "plt.legend()\n",
    "plt.grid(True, axis='y')\n",
    "\n",
    "# Add labels on top of each bar\n",
    "def add_labels(bars):\n",
    "    for bar in bars:\n",
    "        height = bar.get_height()\n",
    "        plt.annotate(f'{int(height)}',\n",
    "                     xy=(bar.get_x() + bar.get_width() / 2, height),\n",
    "                     xytext=(0, 3),  # 3 points vertical offset\n",
    "                     textcoords=\"offset points\",\n",
    "                     ha='center', va='bottom')\n",
    "\n",
    "add_labels(bars1)\n",
    "add_labels(bars2)\n",
    "\n",
    "plt.show()"
   ]
  },
  {
   "cell_type": "markdown",
   "id": "1dc97ef4",
   "metadata": {},
   "source": [
    "The chart shows the number of transactions for each day of the week for Individual/Sole Trader, with regular payments being much higher than defaults every day"
   ]
  },
  {
   "cell_type": "markdown",
   "id": "5cd798de",
   "metadata": {},
   "source": [
    "# High Number of defaults"
   ]
  },
  {
   "cell_type": "code",
   "execution_count": 27,
   "id": "b503b2ea",
   "metadata": {},
   "outputs": [
    {
     "data": {
      "image/png": "[encoded data removed]",
      "text/plain": [
       "<Figure size 1200x600 with 1 Axes>"
      ]
     },
     "metadata": {},
     "output_type": "display_data"
    }
   ],
   "source": [
    "# Filter the DataFrame for defaults and the specific client ID\n",
    "defaults_df = df[(df['payment_code'] == 'DEFAULT') & (df['client_id'] == 859)].copy()\n",
    "\n",
    "# Create a column for the day of the week if not already present\n",
    "defaults_df['day_name'] = defaults_df['transaction_date'].dt.day_name()\n",
    "\n",
    "# Group by 'day_name' and count defaults\n",
    "defaults_by_day = defaults_df.groupby('day_name').size().reset_index(name='count_of_defaults')\n",
    "\n",
    "# Filter the DataFrame for payments and the specific client ID\n",
    "payments_df = df[(df['payment_code'] == 'PAYMENT') & (df['client_id'] == 859)].copy()\n",
    "\n",
    "# Create a column for the day of the week if not already present\n",
    "payments_df['day_name'] = payments_df['transaction_date'].dt.day_name()\n",
    "\n",
    "# Group by 'day_name' and count payments\n",
    "payments_by_day = payments_df.groupby('day_name').size().reset_index(name='count_of_payments')\n",
    "\n",
    "# Reorder the days of the week for correct plotting\n",
    "days_order = ['Monday', 'Tuesday', 'Wednesday', 'Thursday', 'Friday', 'Saturday', 'Sunday']\n",
    "defaults_by_day['day_name'] = pd.Categorical(defaults_by_day['day_name'], categories=days_order, ordered=True)\n",
    "payments_by_day['day_name'] = pd.Categorical(payments_by_day['day_name'], categories=days_order, ordered=True)\n",
    "\n",
    "# Merge the two DataFrames on 'day_name'\n",
    "combined_df = pd.merge(defaults_by_day, payments_by_day, on='day_name', how='outer').fillna(0)\n",
    "\n",
    "# Plotting the data\n",
    "plt.figure(figsize=(12, 6))\n",
    "bar_width = 0.35\n",
    "r1 = combined_df.index\n",
    "r2 = [x + bar_width for x in r1]\n",
    "\n",
    "# Create bars for defaults and payments\n",
    "plt.bar(r1, combined_df['count_of_defaults'], color='red', width=bar_width, edgecolor='grey', label='Defaults')\n",
    "plt.bar(r2, combined_df['count_of_payments'], color='green', width=bar_width, edgecolor='grey', label='Payments')\n",
    "\n",
    "# Add labels\n",
    "plt.title('Count of Default and Payment Transactions by Day of the Week for client_id = 859')\n",
    "plt.xlabel('Day of the Week')\n",
    "plt.ylabel('Count of Transactions')\n",
    "plt.xticks([r + bar_width / 2 for r in range(len(combined_df))], combined_df['day_name'])\n",
    "plt.legend()\n",
    "\n",
    "# Add data labels\n",
    "for i in range(len(r1)):\n",
    "    plt.text(r1[i], combined_df['count_of_defaults'][i], str(int(combined_df['count_of_defaults'][i])), ha='center', va='bottom')\n",
    "for i in range(len(r2)):\n",
    "    plt.text(r2[i], combined_df['count_of_payments'][i], str(int(combined_df['count_of_payments'][i])), ha='center', va='bottom')\n",
    "\n",
    "plt.xticks(rotation=45)  # Rotate x-axis labels for better readability\n",
    "plt.grid(True, axis='y')  # Add grid lines only for y-axis\n",
    "\n",
    "plt.show()\n"
   ]
  },
  {
   "cell_type": "markdown",
   "id": "18daee25",
   "metadata": {},
   "source": [
    "The chart shows the weekly distribution of defaults and payments for client ID 859, with payments consistently outnumbering defaults. The highest activity, for both defaults and payments, occurs on Sunday."
   ]
  },
  {
   "cell_type": "markdown",
   "id": "350b8bc3",
   "metadata": {},
   "source": [
    "# Categories the defaulters based on number of Defaults"
   ]
  },
  {
   "cell_type": "code",
   "execution_count": 28,
   "id": "35a6b902",
   "metadata": {},
   "outputs": [
    {
     "name": "stdout",
     "output_type": "stream",
     "text": [
      "Number of clients in each default category:\n"
     ]
    },
    {
     "data": {
      "image/png": "[encoded data removed]",
      "text/plain": [
       "<Figure size 1200x600 with 1 Axes>"
      ]
     },
     "metadata": {},
     "output_type": "display_data"
    }
   ],
   "source": [
    "## Filter the merged DataFrame for default payments\n",
    "default_payments_df = df[df['payment_code'] == 'DEFAULT']\n",
    "\n",
    "# Group by 'client_id' and count the number of defaults\n",
    "client_default_counts = default_payments_df.groupby('client_id').size().reset_index(name='count_of_defaults')\n",
    "\n",
    "# Categorize the clients based on the number of defaults\n",
    "def categorize_defaults(count):\n",
    "    if count <= 5:\n",
    "        return 'low'\n",
    "    elif 5 < count < 15:\n",
    "        return 'medium'\n",
    "    else:\n",
    "        return 'high'\n",
    "\n",
    "client_default_counts['default_category'] = client_default_counts['count_of_defaults'].apply(categorize_defaults)\n",
    "\n",
    "# Count the number of clients in each default category\n",
    "category_counts = client_default_counts['default_category'].value_counts().reset_index()\n",
    "category_counts.columns = ['default_category', 'count']\n",
    "\n",
    "# Display the results\n",
    "print(\"Number of clients in each default category:\")\n",
    "category_counts\n",
    "\n",
    "# Plot the results with counts on the bars\n",
    "plt.figure(figsize=(12, 6))\n",
    "ax = sns.countplot(data=client_default_counts, x='default_category', order=['low', 'medium', 'high'])\n",
    "plt.title('Distribution of Clients by Default Category')\n",
    "plt.xlabel('Default Category')\n",
    "plt.ylabel('Count of Clients')\n",
    "\n",
    "# Add counts on the bars\n",
    "for p in ax.patches:\n",
    "    ax.annotate(f'{int(p.get_height())}', (p.get_x() + p.get_width() / 2., p.get_height()),\n",
    "                ha='center', va='center', fontsize=12, color='black', xytext=(0, 10),\n",
    "                textcoords='offset points')\n",
    "\n",
    "plt.show()\n"
   ]
  },
  {
   "cell_type": "markdown",
   "id": "8f106686",
   "metadata": {},
   "source": [
    "The chart categorizes clients based on their default risk, displaying 222 clients in the low category, 107 in the medium category, and 36 in the high category. This visualization highlights that most clients fall into the low default risk category."
   ]
  },
  {
   "cell_type": "markdown",
   "id": "2d05f84b",
   "metadata": {},
   "source": [
    "# High Defaulters >=15"
   ]
  },
  {
   "cell_type": "code",
   "execution_count": 29,
   "id": "79924fbf",
   "metadata": {},
   "outputs": [
    {
     "data": {
      "text/html": [
       "<div>\n",
       "<style scoped>\n",
       "    .dataframe tbody tr th:only-of-type {\n",
       "        vertical-align: middle;\n",
       "    }\n",
       "\n",
       "    .dataframe tbody tr th {\n",
       "        vertical-align: top;\n",
       "    }\n",
       "\n",
       "    .dataframe thead th {\n",
       "        text-align: right;\n",
       "    }\n",
       "</style>\n",
       "<table border=\"1\" class=\"dataframe\">\n",
       "  <thead>\n",
       "    <tr style=\"text-align: right;\">\n",
       "      <th></th>\n",
       "      <th>client_id</th>\n",
       "      <th>count_of_defaults</th>\n",
       "      <th>default_category</th>\n",
       "      <th>entity_type</th>\n",
       "      <th>payment_amt_defaulted</th>\n",
       "      <th>payment_amt_paid</th>\n",
       "    </tr>\n",
       "  </thead>\n",
       "  <tbody>\n",
       "    <tr>\n",
       "      <th>31</th>\n",
       "      <td>859.0</td>\n",
       "      <td>34</td>\n",
       "      <td>high</td>\n",
       "      <td>Australian Private Company</td>\n",
       "      <td>34732.95</td>\n",
       "      <td>82762.86</td>\n",
       "    </tr>\n",
       "    <tr>\n",
       "      <th>14</th>\n",
       "      <td>413.0</td>\n",
       "      <td>32</td>\n",
       "      <td>high</td>\n",
       "      <td>Australian Private Company</td>\n",
       "      <td>28551.98</td>\n",
       "      <td>69215.22</td>\n",
       "    </tr>\n",
       "    <tr>\n",
       "      <th>36</th>\n",
       "      <td>1124.0</td>\n",
       "      <td>27</td>\n",
       "      <td>high</td>\n",
       "      <td>Australian Private Company</td>\n",
       "      <td>3131.29</td>\n",
       "      <td>11904.53</td>\n",
       "    </tr>\n",
       "    <tr>\n",
       "      <th>4</th>\n",
       "      <td>231.0</td>\n",
       "      <td>26</td>\n",
       "      <td>high</td>\n",
       "      <td>Individual/Sole Trader</td>\n",
       "      <td>4102.14</td>\n",
       "      <td>7044.64</td>\n",
       "    </tr>\n",
       "    <tr>\n",
       "      <th>35</th>\n",
       "      <td>995.0</td>\n",
       "      <td>25</td>\n",
       "      <td>high</td>\n",
       "      <td>Australian Private Company</td>\n",
       "      <td>1661.25</td>\n",
       "      <td>2917.50</td>\n",
       "    </tr>\n",
       "  </tbody>\n",
       "</table>\n",
       "</div>"
      ],
      "text/plain": [
       "    client_id  count_of_defaults default_category                 entity_type  \\\n",
       "31      859.0                 34             high  Australian Private Company   \n",
       "14      413.0                 32             high  Australian Private Company   \n",
       "36     1124.0                 27             high  Australian Private Company   \n",
       "4       231.0                 26             high      Individual/Sole Trader   \n",
       "35      995.0                 25             high  Australian Private Company   \n",
       "\n",
       "    payment_amt_defaulted  payment_amt_paid  \n",
       "31               34732.95          82762.86  \n",
       "14               28551.98          69215.22  \n",
       "36                3131.29          11904.53  \n",
       "4                 4102.14           7044.64  \n",
       "35                1661.25           2917.50  "
      ]
     },
     "execution_count": 29,
     "metadata": {},
     "output_type": "execute_result"
    }
   ],
   "source": [
    "# Filter the merged DataFrame for default payments\n",
    "default_payments_df = df[df['payment_code'] == 'DEFAULT']\n",
    "\n",
    "# Group by 'client_id' and 'entity_type', and sum the defaulted amounts\n",
    "default_amounts = default_payments_df.groupby(['client_id', 'entity_type'])['payment_amt'].sum().reset_index()\n",
    "\n",
    "# Further categorize and analyze if needed\n",
    "client_default_counts = default_payments_df.groupby('client_id').size().reset_index(name='count_of_defaults')\n",
    "\n",
    "# Categorize the clients based on the number of defaults\n",
    "def categorize_defaults(count):\n",
    "    if count <= 5:\n",
    "        return 'low'\n",
    "    elif 5 < count < 15:\n",
    "        return 'medium'\n",
    "    else:\n",
    "        return 'high'\n",
    "\n",
    "client_default_counts['default_category'] = client_default_counts['count_of_defaults'].apply(categorize_defaults)\n",
    "\n",
    "# Filter for high defaulters\n",
    "high_defaulters = client_default_counts[client_default_counts['default_category'] == 'high']\n",
    "\n",
    "# Merge high defaulters with default amounts\n",
    "high_defaulters_with_amounts = pd.merge(high_defaulters, default_amounts, on='client_id', how='left')\n",
    "\n",
    "# Filter the merged DataFrame for payments (excluding defaults)\n",
    "payments_only_df = df[df['payment_code'] != 'DEFAULT']\n",
    "\n",
    "# Group by 'client_id' and 'entity_type', and sum the payment amounts\n",
    "payment_amounts = payments_only_df.groupby(['client_id', 'entity_type'])['payment_amt'].sum().reset_index()\n",
    "\n",
    "# Merge the payment amounts with the high defaulters\n",
    "high_defaulters_with_payments = pd.merge(high_defaulters_with_amounts, payment_amounts, on=['client_id', 'entity_type'], how='left', suffixes=('_defaulted', '_paid'))\n",
    "\n",
    "# Display the high defaulters with their total defaulted and paid amounts\n",
    "high_defaulters_with_payments = high_defaulters_with_payments[['client_id', 'count_of_defaults', 'default_category', 'entity_type', 'payment_amt_defaulted', 'payment_amt_paid']]\n",
    "\n",
    "high_defaulters_with_payments.sort_values(by='count_of_defaults', ascending=False).head()\n"
   ]
  },
  {
   "cell_type": "markdown",
   "id": "4795aca3",
   "metadata": {},
   "source": [
    "The dataframe lists clients identified as high-risk due to their high number of defaults, who have defaults more than 15 times, detailing their entity types, the total amount they defaulted on, and how much they paid. Most of these high-risk clients are classified as Australian Private Companies, with varying amounts of defaulted and paid sums."
   ]
  },
  {
   "cell_type": "code",
   "execution_count": 30,
   "id": "370484da",
   "metadata": {},
   "outputs": [
    {
     "data": {
      "text/plain": [
       "341925.32"
      ]
     },
     "execution_count": 30,
     "metadata": {},
     "output_type": "execute_result"
    }
   ],
   "source": [
    "high_defaulters_with_payments.payment_amt_defaulted.sum()"
   ]
  },
  {
   "cell_type": "markdown",
   "id": "cfb78c39",
   "metadata": {},
   "source": [
    "total defaulted amount is 341925.32"
   ]
  },
  {
   "cell_type": "code",
   "execution_count": 31,
   "id": "f31e1e9f",
   "metadata": {},
   "outputs": [
    {
     "data": {
      "text/plain": [
       "967689.07"
      ]
     },
     "execution_count": 31,
     "metadata": {},
     "output_type": "execute_result"
    }
   ],
   "source": [
    "high_defaulters_with_payments.payment_amt_paid.sum()"
   ]
  },
  {
   "cell_type": "markdown",
   "id": "ffeadd71",
   "metadata": {},
   "source": [
    "total amount paid by high_defaulters is 967689.07"
   ]
  },
  {
   "cell_type": "markdown",
   "id": "d8137230",
   "metadata": {},
   "source": [
    "# Medium Defaulters <=15 "
   ]
  },
  {
   "cell_type": "code",
   "execution_count": 32,
   "id": "f6c9cdde",
   "metadata": {},
   "outputs": [
    {
     "data": {
      "text/html": [
       "<div>\n",
       "<style scoped>\n",
       "    .dataframe tbody tr th:only-of-type {\n",
       "        vertical-align: middle;\n",
       "    }\n",
       "\n",
       "    .dataframe tbody tr th {\n",
       "        vertical-align: top;\n",
       "    }\n",
       "\n",
       "    .dataframe thead th {\n",
       "        text-align: right;\n",
       "    }\n",
       "</style>\n",
       "<table border=\"1\" class=\"dataframe\">\n",
       "  <thead>\n",
       "    <tr style=\"text-align: right;\">\n",
       "      <th></th>\n",
       "      <th>client_id</th>\n",
       "      <th>count_of_defaults</th>\n",
       "      <th>default_category</th>\n",
       "      <th>entity_type</th>\n",
       "      <th>payment_amt_defaulted</th>\n",
       "      <th>payment_amt_paid</th>\n",
       "    </tr>\n",
       "  </thead>\n",
       "  <tbody>\n",
       "    <tr>\n",
       "      <th>106</th>\n",
       "      <td>1195.0</td>\n",
       "      <td>14</td>\n",
       "      <td>medium</td>\n",
       "      <td>Discretionary Investment Trust</td>\n",
       "      <td>111620.00</td>\n",
       "      <td>172656.59</td>\n",
       "    </tr>\n",
       "    <tr>\n",
       "      <th>91</th>\n",
       "      <td>953.0</td>\n",
       "      <td>14</td>\n",
       "      <td>medium</td>\n",
       "      <td>Individual/Sole Trader</td>\n",
       "      <td>6766.62</td>\n",
       "      <td>24649.86</td>\n",
       "    </tr>\n",
       "    <tr>\n",
       "      <th>25</th>\n",
       "      <td>281.0</td>\n",
       "      <td>14</td>\n",
       "      <td>medium</td>\n",
       "      <td>Individual/Sole Trader</td>\n",
       "      <td>2940.54</td>\n",
       "      <td>6540.54</td>\n",
       "    </tr>\n",
       "    <tr>\n",
       "      <th>69</th>\n",
       "      <td>753.0</td>\n",
       "      <td>14</td>\n",
       "      <td>medium</td>\n",
       "      <td>Australian Private Company</td>\n",
       "      <td>13533.31</td>\n",
       "      <td>84616.55</td>\n",
       "    </tr>\n",
       "    <tr>\n",
       "      <th>7</th>\n",
       "      <td>105.0</td>\n",
       "      <td>14</td>\n",
       "      <td>medium</td>\n",
       "      <td>Individual/Sole Trader</td>\n",
       "      <td>6050.00</td>\n",
       "      <td>10250.00</td>\n",
       "    </tr>\n",
       "  </tbody>\n",
       "</table>\n",
       "</div>"
      ],
      "text/plain": [
       "     client_id  count_of_defaults default_category  \\\n",
       "106     1195.0                 14           medium   \n",
       "91       953.0                 14           medium   \n",
       "25       281.0                 14           medium   \n",
       "69       753.0                 14           medium   \n",
       "7        105.0                 14           medium   \n",
       "\n",
       "                        entity_type  payment_amt_defaulted  payment_amt_paid  \n",
       "106  Discretionary Investment Trust              111620.00         172656.59  \n",
       "91           Individual/Sole Trader                6766.62          24649.86  \n",
       "25           Individual/Sole Trader                2940.54           6540.54  \n",
       "69       Australian Private Company               13533.31          84616.55  \n",
       "7            Individual/Sole Trader                6050.00          10250.00  "
      ]
     },
     "execution_count": 32,
     "metadata": {},
     "output_type": "execute_result"
    }
   ],
   "source": [
    "medium_defaulters = client_default_counts[client_default_counts['default_category'] == 'medium']\n",
    "\n",
    "medium_defaulters_with_amounts = pd.merge(medium_defaulters, default_amounts, on='client_id', how='left')\n",
    "\n",
    "payments_only_df = df[df['payment_code'] != 'DEFAULT']\n",
    "\n",
    "payment_amounts = payments_only_df.groupby(['client_id', 'entity_type'])['payment_amt'].sum().reset_index()\n",
    "\n",
    "medium_defaulters_with_payments = pd.merge(medium_defaulters_with_amounts, payment_amounts, on=['client_id', 'entity_type'], how='left', suffixes=('_defaulted', '_paid'))\n",
    "\n",
    "medium_defaulters_with_payments = medium_defaulters_with_payments[['client_id', 'count_of_defaults', 'default_category', 'entity_type', 'payment_amt_defaulted', 'payment_amt_paid']]\n",
    "\n",
    "medium_defaulters_with_payments.sort_values(by='count_of_defaults', ascending=False).head()"
   ]
  },
  {
   "cell_type": "markdown",
   "id": "f6f309e8",
   "metadata": {},
   "source": [
    "Medium defaulters who have defaulted less than 15 times"
   ]
  },
  {
   "cell_type": "code",
   "execution_count": 33,
   "id": "e8a13e94",
   "metadata": {},
   "outputs": [
    {
     "data": {
      "text/plain": [
       "107"
      ]
     },
     "execution_count": 33,
     "metadata": {},
     "output_type": "execute_result"
    }
   ],
   "source": [
    "medium_defaulters_with_payments.client_id.count()"
   ]
  },
  {
   "cell_type": "code",
   "execution_count": 34,
   "id": "04a33623",
   "metadata": {},
   "outputs": [
    {
     "data": {
      "text/plain": [
       "559579.5"
      ]
     },
     "execution_count": 34,
     "metadata": {},
     "output_type": "execute_result"
    }
   ],
   "source": [
    "medium_defaulters_with_payments.payment_amt_defaulted.sum()"
   ]
  },
  {
   "cell_type": "markdown",
   "id": "2f6ab772",
   "metadata": {},
   "source": [
    "total defaulted amount is 559579.5"
   ]
  },
  {
   "cell_type": "code",
   "execution_count": 35,
   "id": "0fc15867",
   "metadata": {},
   "outputs": [
    {
     "data": {
      "text/plain": [
       "2579354.34"
      ]
     },
     "execution_count": 35,
     "metadata": {},
     "output_type": "execute_result"
    }
   ],
   "source": [
    "medium_defaulters_with_payments.payment_amt_paid.sum()"
   ]
  },
  {
   "cell_type": "markdown",
   "id": "a5603984",
   "metadata": {},
   "source": [
    "total amount paid by medium_defaulters is 2579354.34"
   ]
  },
  {
   "cell_type": "markdown",
   "id": "c73e85f2",
   "metadata": {},
   "source": [
    "# Low defaulters <=5"
   ]
  },
  {
   "cell_type": "code",
   "execution_count": 36,
   "id": "7beb0dc1",
   "metadata": {},
   "outputs": [
    {
     "data": {
      "text/html": [
       "<div>\n",
       "<style scoped>\n",
       "    .dataframe tbody tr th:only-of-type {\n",
       "        vertical-align: middle;\n",
       "    }\n",
       "\n",
       "    .dataframe tbody tr th {\n",
       "        vertical-align: top;\n",
       "    }\n",
       "\n",
       "    .dataframe thead th {\n",
       "        text-align: right;\n",
       "    }\n",
       "</style>\n",
       "<table border=\"1\" class=\"dataframe\">\n",
       "  <thead>\n",
       "    <tr style=\"text-align: right;\">\n",
       "      <th></th>\n",
       "      <th>client_id</th>\n",
       "      <th>count_of_defaults</th>\n",
       "      <th>default_category</th>\n",
       "      <th>entity_type</th>\n",
       "      <th>payment_amt_defaulted</th>\n",
       "      <th>payment_amt_paid</th>\n",
       "    </tr>\n",
       "  </thead>\n",
       "  <tbody>\n",
       "    <tr>\n",
       "      <th>44</th>\n",
       "      <td>297.0</td>\n",
       "      <td>5</td>\n",
       "      <td>low</td>\n",
       "      <td>Australian Private Company</td>\n",
       "      <td>6000.00</td>\n",
       "      <td>47675.00</td>\n",
       "    </tr>\n",
       "    <tr>\n",
       "      <th>138</th>\n",
       "      <td>767.0</td>\n",
       "      <td>5</td>\n",
       "      <td>low</td>\n",
       "      <td>Australian Private Company</td>\n",
       "      <td>6058.34</td>\n",
       "      <td>16857.00</td>\n",
       "    </tr>\n",
       "    <tr>\n",
       "      <th>88</th>\n",
       "      <td>490.0</td>\n",
       "      <td>5</td>\n",
       "      <td>low</td>\n",
       "      <td>Australian Private Company</td>\n",
       "      <td>2300.01</td>\n",
       "      <td>12350.01</td>\n",
       "    </tr>\n",
       "    <tr>\n",
       "      <th>198</th>\n",
       "      <td>1128.0</td>\n",
       "      <td>5</td>\n",
       "      <td>low</td>\n",
       "      <td>Australian Private Company</td>\n",
       "      <td>700.00</td>\n",
       "      <td>37806.70</td>\n",
       "    </tr>\n",
       "    <tr>\n",
       "      <th>211</th>\n",
       "      <td>1198.0</td>\n",
       "      <td>5</td>\n",
       "      <td>low</td>\n",
       "      <td>Individual/Sole Trader</td>\n",
       "      <td>950.24</td>\n",
       "      <td>7200.72</td>\n",
       "    </tr>\n",
       "  </tbody>\n",
       "</table>\n",
       "</div>"
      ],
      "text/plain": [
       "     client_id  count_of_defaults default_category  \\\n",
       "44       297.0                  5              low   \n",
       "138      767.0                  5              low   \n",
       "88       490.0                  5              low   \n",
       "198     1128.0                  5              low   \n",
       "211     1198.0                  5              low   \n",
       "\n",
       "                    entity_type  payment_amt_defaulted  payment_amt_paid  \n",
       "44   Australian Private Company                6000.00          47675.00  \n",
       "138  Australian Private Company                6058.34          16857.00  \n",
       "88   Australian Private Company                2300.01          12350.01  \n",
       "198  Australian Private Company                 700.00          37806.70  \n",
       "211      Individual/Sole Trader                 950.24           7200.72  "
      ]
     },
     "execution_count": 36,
     "metadata": {},
     "output_type": "execute_result"
    }
   ],
   "source": [
    "\n",
    "low_defaulters = client_default_counts[client_default_counts['default_category'] == 'low']\n",
    "\n",
    "low_defaulters_with_amounts = pd.merge(low_defaulters, default_amounts, on='client_id', how='left')\n",
    "\n",
    "payments_only_df = df[df['payment_code'] != 'DEFAULT']\n",
    "\n",
    "payment_amounts = payments_only_df.groupby(['client_id', 'entity_type'])['payment_amt'].sum().reset_index()\n",
    "\n",
    "low_defaulters_with_payments = pd.merge(low_defaulters_with_amounts, payment_amounts, on=['client_id', 'entity_type'], how='left', suffixes=('_defaulted', '_paid'))\n",
    "\n",
    "low_defaulters_with_payments = low_defaulters_with_payments[['client_id', 'count_of_defaults', 'default_category', 'entity_type', 'payment_amt_defaulted', 'payment_amt_paid']]\n",
    "\n",
    "low_defaulters_with_payments.sort_values(by='count_of_defaults', ascending=False).head()"
   ]
  },
  {
   "cell_type": "markdown",
   "id": "9d7781a0",
   "metadata": {},
   "source": [
    "low defaulters who have defaulted less than or equal to 5 times"
   ]
  },
  {
   "cell_type": "code",
   "execution_count": 37,
   "id": "ece25262",
   "metadata": {},
   "outputs": [
    {
     "data": {
      "text/plain": [
       "222"
      ]
     },
     "execution_count": 37,
     "metadata": {},
     "output_type": "execute_result"
    }
   ],
   "source": [
    "low_defaulters_with_payments.client_id.count()"
   ]
  },
  {
   "cell_type": "code",
   "execution_count": 38,
   "id": "04ba199f",
   "metadata": {},
   "outputs": [
    {
     "data": {
      "text/plain": [
       "605251.05"
      ]
     },
     "execution_count": 38,
     "metadata": {},
     "output_type": "execute_result"
    }
   ],
   "source": [
    "low_defaulters_with_payments.payment_amt_defaulted.sum()"
   ]
  },
  {
   "cell_type": "markdown",
   "id": "c1b9e7e6",
   "metadata": {},
   "source": [
    "Total defaulted amount is 605251.05"
   ]
  },
  {
   "cell_type": "code",
   "execution_count": 39,
   "id": "313c8d26",
   "metadata": {},
   "outputs": [
    {
     "data": {
      "text/plain": [
       "4964444.629999999"
      ]
     },
     "execution_count": 39,
     "metadata": {},
     "output_type": "execute_result"
    }
   ],
   "source": [
    "low_defaulters_with_payments.payment_amt_paid.sum()"
   ]
  },
  {
   "cell_type": "markdown",
   "id": "f3576ab5",
   "metadata": {},
   "source": [
    "Total amount paid by low_defaulters is 4964444.629999999"
   ]
  },
  {
   "cell_type": "markdown",
   "id": "f482ec08",
   "metadata": {},
   "source": [
    "# Sum of Defaulter Categories"
   ]
  },
  {
   "cell_type": "code",
   "execution_count": 40,
   "id": "962348ad",
   "metadata": {},
   "outputs": [
    {
     "name": "stdout",
     "output_type": "stream",
     "text": [
      "Total defaulted amount by low defaulters: 605251.05\n",
      "Total defaulted amount by medium defaulters: 559579.5\n",
      "Total defaulted amount by high defaulters: 341925.32\n",
      "Overall total payments: 30178687.470000003\n",
      "Percentage of total payments defaulted: 4.99%\n"
     ]
    }
   ],
   "source": [
    "# Sum the defaulted amounts for each category\n",
    "total_low_defaulted = low_defaulters_with_payments['payment_amt_defaulted'].sum()\n",
    "total_medium_defaulted = medium_defaulters_with_payments['payment_amt_defaulted'].sum()\n",
    "total_high_defaulted = high_defaulters_with_payments['payment_amt_defaulted'].sum()\n",
    "\n",
    "# Calculate the total payments made\n",
    "total_payments = df[df['payment_code'] == 'PAYMENT']['payment_amt'].sum()\n",
    "\n",
    "# Calculate the sum of the defaulted amounts divided by the total payments\n",
    "sum_defaulted_amounts = total_low_defaulted + total_medium_defaulted + total_high_defaulted\n",
    "percentage_defaulted = (sum_defaulted_amounts / total_payments) * 100\n",
    "\n",
    "print(f\"Total defaulted amount by low defaulters: {total_low_defaulted}\")\n",
    "print(f\"Total defaulted amount by medium defaulters: {total_medium_defaulted}\")\n",
    "print(f\"Total defaulted amount by high defaulters: {total_high_defaulted}\")\n",
    "print(f\"Overall total payments: {total_payments}\")\n",
    "print(f\"Percentage of total payments defaulted: {percentage_defaulted:.2f}%\")\n"
   ]
  },
  {
   "cell_type": "markdown",
   "id": "48c12e4a",
   "metadata": {},
   "source": [
    "# Defaulted amount and percentage"
   ]
  },
  {
   "cell_type": "code",
   "execution_count": 41,
   "id": "93490a1a",
   "metadata": {},
   "outputs": [
    {
     "data": {
      "image/png": "[encoded data removed]",
      "text/plain": [
       "<Figure size 1200x1000 with 1 Axes>"
      ]
     },
     "metadata": {},
     "output_type": "display_data"
    }
   ],
   "source": [
    "labels = ['Low Defaulters', 'Medium Defaulters', 'High Defaulters', 'Total Payments']\n",
    "values = [total_low_defaulted, total_medium_defaulted, total_high_defaulted, total_payments]\n",
    "\n",
    "# Define function to format the labels\n",
    "def format_label(pct, allvals):\n",
    "    absolute = int(pct/100.*sum(allvals))\n",
    "    return f\"{pct:.1f}%\\n({absolute:,d})\"\n",
    "\n",
    "# Plotting the Pie Chart\n",
    "plt.figure(figsize=(12, 10))\n",
    "wedges, texts, autotexts = plt.pie(values, labels=labels, autopct=lambda pct: format_label(pct, values),\n",
    "                                   startangle=140, colors=['blue', 'orange', 'red', 'green'], textprops=dict(color=\"w\"))\n",
    "\n",
    "# Adding more properties to make it visually appealing\n",
    "plt.setp(autotexts, size=8, weight=\"bold\")\n",
    "plt.setp(texts, size=12)\n",
    "plt.title('Total Defaulted Amounts and Total Payments', size=14)\n",
    "plt.axis('equal')\n",
    "\n",
    "plt.show()"
   ]
  },
  {
   "cell_type": "markdown",
   "id": "67e54b55",
   "metadata": {},
   "source": [
    "The pie chart visualizes the total payments made, with 95.2% ($30,178,686) representing successful payments and 4.99% divided among defaulted amounts: 1.9% ($605,251) for low, 1.8% ($559,579) medium, and 1.1% ($341,925) for high defaulters. This illustrates the proportion of defaults compared to the total payments made."
   ]
  },
  {
   "cell_type": "markdown",
   "id": "ba693ab0",
   "metadata": {},
   "source": [
    "# Default, Payment amount in 2017 and 2018"
   ]
  },
  {
   "cell_type": "code",
   "execution_count": 42,
   "id": "a6081416",
   "metadata": {},
   "outputs": [
    {
     "name": "stdout",
     "output_type": "stream",
     "text": [
      "Total amount of defaults in 2017: 403486.68\n",
      "Total amount of payments in 2017: 9100778.43\n",
      "Total amount of defaults in 2018: 1103269.19\n",
      "Total amount of payments in 2018: 21077909.04\n"
     ]
    }
   ],
   "source": [
    "# Filter the DataFrame for defaults and payments\n",
    "\n",
    "defaults_df = df[df['payment_code'] == 'DEFAULT']\n",
    "payments_df = df[df['payment_code'] == 'PAYMENT']\n",
    "\n",
    "# Calculate total amount of defaults and Payments for 2017\n",
    "\n",
    "defaults_2017 = defaults_df[defaults_df['transaction_date'].dt.year == 2017]\n",
    "payments_2017 = payments_df[payments_df['transaction_date'].dt.year == 2017]\n",
    "total_defaults_2017 = defaults_2017['payment_amt'].sum()\n",
    "total_payments_2017 = payments_2017['payment_amt'].sum()\n",
    "\n",
    "\n",
    "# Calculate total amount of defaults and Payments for 2018\n",
    "\n",
    "defaults_2018 = defaults_df[defaults_df['transaction_date'].dt.year == 2018]\n",
    "payments_2018 = payments_df[payments_df['transaction_date'].dt.year == 2018]\n",
    "total_defaults_2018 = defaults_2018['payment_amt'].sum()\n",
    "total_payments_2018 = payments_2018['payment_amt'].sum()\n",
    "\n",
    "# Display the results\n",
    "\n",
    "print(f'Total amount of defaults in 2017: {total_defaults_2017}')\n",
    "print(f'Total amount of payments in 2017: {total_payments_2017}')\n",
    "print(f'Total amount of defaults in 2018: {total_defaults_2018}')\n",
    "print(f'Total amount of payments in 2018: {total_payments_2018}')\n"
   ]
  },
  {
   "cell_type": "code",
   "execution_count": 43,
   "id": "f2b30a5b",
   "metadata": {},
   "outputs": [
    {
     "data": {
      "text/html": [
       "<div>\n",
       "<style scoped>\n",
       "    .dataframe tbody tr th:only-of-type {\n",
       "        vertical-align: middle;\n",
       "    }\n",
       "\n",
       "    .dataframe tbody tr th {\n",
       "        vertical-align: top;\n",
       "    }\n",
       "\n",
       "    .dataframe thead th {\n",
       "        text-align: right;\n",
       "    }\n",
       "</style>\n",
       "<table border=\"1\" class=\"dataframe\">\n",
       "  <thead>\n",
       "    <tr style=\"text-align: right;\">\n",
       "      <th></th>\n",
       "      <th>transaction_id</th>\n",
       "      <th>contract_id</th>\n",
       "      <th>client_id</th>\n",
       "      <th>transaction_date</th>\n",
       "      <th>payment_amt</th>\n",
       "      <th>payment_code</th>\n",
       "      <th>entity_type</th>\n",
       "      <th>entity_year_established</th>\n",
       "      <th>day_name</th>\n",
       "      <th>year</th>\n",
       "      <th>month</th>\n",
       "      <th>day</th>\n",
       "      <th>amount_category</th>\n",
       "    </tr>\n",
       "  </thead>\n",
       "  <tbody>\n",
       "    <tr>\n",
       "      <th>0</th>\n",
       "      <td>20175</td>\n",
       "      <td>927.0</td>\n",
       "      <td>1.0</td>\n",
       "      <td>2018-05-22 18:08:31</td>\n",
       "      <td>66.66</td>\n",
       "      <td>PAYMENT</td>\n",
       "      <td>Other Partnership</td>\n",
       "      <td>2006</td>\n",
       "      <td>Tuesday</td>\n",
       "      <td>2018</td>\n",
       "      <td>5</td>\n",
       "      <td>22</td>\n",
       "      <td>0-100</td>\n",
       "    </tr>\n",
       "    <tr>\n",
       "      <th>1</th>\n",
       "      <td>8485</td>\n",
       "      <td>927.0</td>\n",
       "      <td>1.0</td>\n",
       "      <td>2017-11-26 17:08:15</td>\n",
       "      <td>66.66</td>\n",
       "      <td>PAYMENT</td>\n",
       "      <td>Other Partnership</td>\n",
       "      <td>2006</td>\n",
       "      <td>Sunday</td>\n",
       "      <td>2017</td>\n",
       "      <td>11</td>\n",
       "      <td>26</td>\n",
       "      <td>0-100</td>\n",
       "    </tr>\n",
       "    <tr>\n",
       "      <th>2</th>\n",
       "      <td>13778</td>\n",
       "      <td>927.0</td>\n",
       "      <td>1.0</td>\n",
       "      <td>2018-02-22 17:08:23</td>\n",
       "      <td>66.66</td>\n",
       "      <td>PAYMENT</td>\n",
       "      <td>Other Partnership</td>\n",
       "      <td>2006</td>\n",
       "      <td>Thursday</td>\n",
       "      <td>2018</td>\n",
       "      <td>2</td>\n",
       "      <td>22</td>\n",
       "      <td>0-100</td>\n",
       "    </tr>\n",
       "    <tr>\n",
       "      <th>3</th>\n",
       "      <td>22768</td>\n",
       "      <td>927.0</td>\n",
       "      <td>1.0</td>\n",
       "      <td>2018-06-24 18:08:44</td>\n",
       "      <td>66.66</td>\n",
       "      <td>PAYMENT</td>\n",
       "      <td>Other Partnership</td>\n",
       "      <td>2006</td>\n",
       "      <td>Sunday</td>\n",
       "      <td>2018</td>\n",
       "      <td>6</td>\n",
       "      <td>24</td>\n",
       "      <td>0-100</td>\n",
       "    </tr>\n",
       "    <tr>\n",
       "      <th>4</th>\n",
       "      <td>15698</td>\n",
       "      <td>927.0</td>\n",
       "      <td>1.0</td>\n",
       "      <td>2018-03-22 17:08:24</td>\n",
       "      <td>66.66</td>\n",
       "      <td>PAYMENT</td>\n",
       "      <td>Other Partnership</td>\n",
       "      <td>2006</td>\n",
       "      <td>Thursday</td>\n",
       "      <td>2018</td>\n",
       "      <td>3</td>\n",
       "      <td>22</td>\n",
       "      <td>0-100</td>\n",
       "    </tr>\n",
       "    <tr>\n",
       "      <th>...</th>\n",
       "      <td>...</td>\n",
       "      <td>...</td>\n",
       "      <td>...</td>\n",
       "      <td>...</td>\n",
       "      <td>...</td>\n",
       "      <td>...</td>\n",
       "      <td>...</td>\n",
       "      <td>...</td>\n",
       "      <td>...</td>\n",
       "      <td>...</td>\n",
       "      <td>...</td>\n",
       "      <td>...</td>\n",
       "      <td>...</td>\n",
       "    </tr>\n",
       "    <tr>\n",
       "      <th>25849</th>\n",
       "      <td>25075</td>\n",
       "      <td>1603.0</td>\n",
       "      <td>1280.0</td>\n",
       "      <td>2018-07-19 18:09:24</td>\n",
       "      <td>1666.68</td>\n",
       "      <td>PAYMENT</td>\n",
       "      <td>Australian Private Company</td>\n",
       "      <td>2016</td>\n",
       "      <td>Thursday</td>\n",
       "      <td>2018</td>\n",
       "      <td>7</td>\n",
       "      <td>19</td>\n",
       "      <td>1001-5000</td>\n",
       "    </tr>\n",
       "    <tr>\n",
       "      <th>25850</th>\n",
       "      <td>24711</td>\n",
       "      <td>1603.0</td>\n",
       "      <td>1280.0</td>\n",
       "      <td>2018-07-16 18:09:20</td>\n",
       "      <td>0.01</td>\n",
       "      <td>PAYMENT</td>\n",
       "      <td>Australian Private Company</td>\n",
       "      <td>2016</td>\n",
       "      <td>Monday</td>\n",
       "      <td>2018</td>\n",
       "      <td>7</td>\n",
       "      <td>16</td>\n",
       "      <td>0-100</td>\n",
       "    </tr>\n",
       "    <tr>\n",
       "      <th>25851</th>\n",
       "      <td>25076</td>\n",
       "      <td>1603.0</td>\n",
       "      <td>1280.0</td>\n",
       "      <td>2018-07-19 18:09:24</td>\n",
       "      <td>64.99</td>\n",
       "      <td>PAYMENT</td>\n",
       "      <td>Australian Private Company</td>\n",
       "      <td>2016</td>\n",
       "      <td>Thursday</td>\n",
       "      <td>2018</td>\n",
       "      <td>7</td>\n",
       "      <td>19</td>\n",
       "      <td>0-100</td>\n",
       "    </tr>\n",
       "    <tr>\n",
       "      <th>25852</th>\n",
       "      <td>25132</td>\n",
       "      <td>1627.0</td>\n",
       "      <td>1281.0</td>\n",
       "      <td>2018-07-22 18:08:06</td>\n",
       "      <td>0.01</td>\n",
       "      <td>PAYMENT</td>\n",
       "      <td>Australian Private Company</td>\n",
       "      <td>2012</td>\n",
       "      <td>Sunday</td>\n",
       "      <td>2018</td>\n",
       "      <td>7</td>\n",
       "      <td>22</td>\n",
       "      <td>0-100</td>\n",
       "    </tr>\n",
       "    <tr>\n",
       "      <th>25853</th>\n",
       "      <td>25131</td>\n",
       "      <td>1627.0</td>\n",
       "      <td>1281.0</td>\n",
       "      <td>2018-07-22 18:08:06</td>\n",
       "      <td>20000.05</td>\n",
       "      <td>PAYMENT</td>\n",
       "      <td>Australian Private Company</td>\n",
       "      <td>2012</td>\n",
       "      <td>Sunday</td>\n",
       "      <td>2018</td>\n",
       "      <td>7</td>\n",
       "      <td>22</td>\n",
       "      <td>NaN</td>\n",
       "    </tr>\n",
       "  </tbody>\n",
       "</table>\n",
       "<p>25854 rows × 13 columns</p>\n",
       "</div>"
      ],
      "text/plain": [
       "      transaction_id  contract_id  client_id    transaction_date  payment_amt  \\\n",
       "0              20175        927.0        1.0 2018-05-22 18:08:31        66.66   \n",
       "1               8485        927.0        1.0 2017-11-26 17:08:15        66.66   \n",
       "2              13778        927.0        1.0 2018-02-22 17:08:23        66.66   \n",
       "3              22768        927.0        1.0 2018-06-24 18:08:44        66.66   \n",
       "4              15698        927.0        1.0 2018-03-22 17:08:24        66.66   \n",
       "...              ...          ...        ...                 ...          ...   \n",
       "25849          25075       1603.0     1280.0 2018-07-19 18:09:24      1666.68   \n",
       "25850          24711       1603.0     1280.0 2018-07-16 18:09:20         0.01   \n",
       "25851          25076       1603.0     1280.0 2018-07-19 18:09:24        64.99   \n",
       "25852          25132       1627.0     1281.0 2018-07-22 18:08:06         0.01   \n",
       "25853          25131       1627.0     1281.0 2018-07-22 18:08:06     20000.05   \n",
       "\n",
       "      payment_code                 entity_type  entity_year_established  \\\n",
       "0          PAYMENT           Other Partnership                     2006   \n",
       "1          PAYMENT           Other Partnership                     2006   \n",
       "2          PAYMENT           Other Partnership                     2006   \n",
       "3          PAYMENT           Other Partnership                     2006   \n",
       "4          PAYMENT           Other Partnership                     2006   \n",
       "...            ...                         ...                      ...   \n",
       "25849      PAYMENT  Australian Private Company                     2016   \n",
       "25850      PAYMENT  Australian Private Company                     2016   \n",
       "25851      PAYMENT  Australian Private Company                     2016   \n",
       "25852      PAYMENT  Australian Private Company                     2012   \n",
       "25853      PAYMENT  Australian Private Company                     2012   \n",
       "\n",
       "       day_name  year  month  day amount_category  \n",
       "0       Tuesday  2018      5   22           0-100  \n",
       "1        Sunday  2017     11   26           0-100  \n",
       "2      Thursday  2018      2   22           0-100  \n",
       "3        Sunday  2018      6   24           0-100  \n",
       "4      Thursday  2018      3   22           0-100  \n",
       "...         ...   ...    ...  ...             ...  \n",
       "25849  Thursday  2018      7   19       1001-5000  \n",
       "25850    Monday  2018      7   16           0-100  \n",
       "25851  Thursday  2018      7   19           0-100  \n",
       "25852    Sunday  2018      7   22           0-100  \n",
       "25853    Sunday  2018      7   22             NaN  \n",
       "\n",
       "[25854 rows x 13 columns]"
      ]
     },
     "execution_count": 43,
     "metadata": {},
     "output_type": "execute_result"
    }
   ],
   "source": [
    "df"
   ]
  },
  {
   "cell_type": "code",
   "execution_count": null,
   "id": "9846c8ce",
   "metadata": {},
   "outputs": [],
   "source": []
  },
  {
   "cell_type": "code",
   "execution_count": null,
   "id": "79d7eb89",
   "metadata": {},
   "outputs": [],
   "source": []
  },
  {
   "cell_type": "code",
   "execution_count": null,
   "id": "1df8edd9",
   "metadata": {},
   "outputs": [],
   "source": []
  }
 ],
 "metadata": {
  "kernelspec": {
   "display_name": "Python 3 (ipykernel)",
   "language": "python",
   "name": "python3"
  },
  "language_info": {
   "codemirror_mode": {
    "name": "ipython",
    "version": 3
   },
   "file_extension": ".py",
   "mimetype": "text/x-python",
   "name": "python",
   "nbconvert_exporter": "python",
   "pygments_lexer": "ipython3",
   "version": "3.11.4"
  }
 },
 "nbformat": 4,
 "nbformat_minor": 5
}
